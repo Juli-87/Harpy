{
 "cells": [
  {
   "cell_type": "markdown",
   "metadata": {},
   "source": [
    "# The script\n",
    "\n",
    "This script derives the equations of motion of the wind turbine model described below, i.e. the system of differential equations describing the structural deflection, velocity and accleration of the wind turbine blades and components. Then a numerical python (numpy) code is generated to solve the equations of motion on time.\n",
    "\n",
    "# Problem definition\n",
    "\n",
    "The figure below illustrates the wind turbine structural and kinematic model, the position vectors and the reference frames used to model the wind turbine movement. The inertial frame of reference $O_0$ origin is located on the wind turbine basis. The origin $O_1$ of the first moving reference frame is located at the tower top and it translates and rotates based with tower top deformation. The origin of $O_2$ is attached to the nacelle and is tilted of an angle $\\theta_{tilt}$ in relation to $O_1$. The third frame of reference $O_3$ origin is located on the tip of wind turbine shaft, it is rotated $\\left[\\eta + \\theta_b\\left(t\\right) + \\theta_{s,y}\\left(t\\right)\\right]$ in relation to the second frame of reference, where $\\theta_b\\left(t\\right)$ is the shaft azimuth angle, $\\theta_{s,y}\\left(t\\right)$ is the shaft torsional deformation and $\\eta$ is initial azimuth angle of the blade $b$. The fourth frame of reference $O_4$ is located at blade root, which is conned at an angle $\\theta_{cone}$ in relation to the rotor plane.\n",
    "\n",
    "The nacelle is inclined upward in relation to the horizontal by and angle $\\theta_{tilt}$ and the blades are inclined forward in relation to the rotor plane by an angle $\\theta_{cone}$. The displacement of the nacelle is modelled by the two linear springs $k_x^t$ and $k_y^t$ and two angular angular springs $G_x^t$ and $G_z^t$, representing the stiffness of the wind turbine tower. The shaft deformation is modelled by an angular spring on its tip. The blades displacement is modelled as a linear combination of its mode-shapes."
   ]
  },
  {
   "cell_type": "markdown",
   "metadata": {},
   "source": [
    "![title](fig_turbine_views_2.svg)"
   ]
  },
  {
   "cell_type": "markdown",
   "metadata": {},
   "source": [
    "## Importing libraries\n",
    "\n",
    "One of the main advantages of the using a symbolic package inside a programming language as Python instead of a stand-alone software is the possibility of combining multiple packages together. In the symbolic script, the main packages imported are “Sympy” for handling the symbolic derivations and “Joblib” for handling the parallel computations, python standard data structures are also used extensively. Another convenience of Python is the possibility of adapting the functionality of a package to suit the project specific needs through inheritance of a class and overriding some of its methods. In the present case, the code generator “NumpyPrinter” from Sympy was inherited into the class “MyPrinter”. The “MyPrinter” class methods will be discussed in detail later in this notebook."
   ]
  },
  {
   "cell_type": "code",
   "execution_count": 24,
   "metadata": {},
   "outputs": [],
   "source": [
    "from IPython.display import display\n",
    "from os import system as syst\n",
    "import sys\n",
    "import sympy as sym\n",
    "from sympy.physics.mechanics import dynamicsymbols, init_vprinting\n",
    "import time\n",
    "import psutil \n",
    "\n",
    "from my_printer import MyPrinter\n",
    "from joblib import Parallel, delayed\n",
    "import multiprocessing\n"
   ]
  },
  {
   "cell_type": "code",
   "execution_count": 25,
   "metadata": {},
   "outputs": [],
   "source": [
    "# Number of mode shapes per blade\n",
    "n_m = 4\n",
    "\n",
    "# Create or erase log file used by the parallelized functins\n",
    "file_log = open('file_log.txt', 'wt')\n",
    "file_log.close()\n",
    "\n",
    "# Number of physical cores available for parallelisation\n",
    "n_cores = psutil.cpu_count(logical = False)\n",
    "# n_cores = multiprocessing.cpu_count()\n",
    "\n",
    "# Parallel function verbose option\n",
    "par_verbose = 1"
   ]
  },
  {
   "cell_type": "markdown",
   "metadata": {},
   "source": [
    "## Script functions\n",
    "\n",
    "In this cell, some functions that will be used are created. Combining the libraries methods, the functions increase the efficiency and make the code more readable. All the functions defined in this section, and every where in the project, follow the PEP8 standard and their functionality and parameters can be called using the help() function."
   ]
  },
  {
   "cell_type": "code",
   "execution_count": 26,
   "metadata": {
    "jupyter": {
     "source_hidden": true
    }
   },
   "outputs": [],
   "source": [
    "def rotate_matrix(angle,axis): # return A\n",
    "    '''\n",
    "    Generates a transformation matrix.\n",
    "    \n",
    "    Parameters\n",
    "    ----------\n",
    "    angle : sympy.Symbol or sympy.Function\n",
    "            [rad] angle between the two reference frames along the 'axis'\n",
    "    axis : str\n",
    "           axis of roation. 'x', 'y' and 'z'.\n",
    "    \n",
    "    Returns\n",
    "    -------\n",
    "    A : sympy.Matrix [:, :]\n",
    "        transformation matrix from reference frame 1 to reference frame 2.\n",
    "    '''\n",
    "    if (axis=='x'):\n",
    "        A = sym.Matrix([[1, 0, 0],\n",
    "                    [0, sym.cos(angle), sym.sin(angle)],\n",
    "                    [0, -sym.sin(angle), sym.cos(angle)]])\n",
    "    elif (axis=='y'):\n",
    "        A = sym.Matrix([[sym.cos(angle), 0, -sym.sin(angle)],\n",
    "                    [0, 1, 0],\n",
    "                    [sym.sin(angle), 0, sym.cos(angle)]])\n",
    "    elif (axis=='z'):\n",
    "        A = sym.Matrix([[sym.cos(angle), sym.sin(angle), 0],\n",
    "                    [-sym.sin(angle), sym.cos(angle), 0],\n",
    "                    [0, 0, 1]])\n",
    "    else:\n",
    "        print('error in rotate_matrix function')\n",
    "    \n",
    "    return A\n",
    "\n",
    "def red(M): # return A\n",
    "    '''\n",
    "    Reduce or simplify a matrix M.\n",
    "    \n",
    "    Parameters\n",
    "    ----------\n",
    "    M : sympy.matrix [:, :]\n",
    "    \n",
    "    Returns\n",
    "    -------\n",
    "    A : sympy.matrix [:, :]\n",
    "        M simplified\n",
    "    '''\n",
    "    A = M.copy().as_mutable()\n",
    "    A = sym.simplify(A.doit().expand(trig=True))\n",
    "    return A\n",
    "\n",
    "def coeficient_matrix_par(E, q, b=None, c=None): # return M\n",
    "    '''\n",
    "    Collects the terms o equatios E[:] that are linearly proportional to each \n",
    "    of the terms in the array q[:] and arrange the equation into a matrix M\n",
    "    such that:\n",
    "    \n",
    "    E[:] = M[:, :] . q[:]\n",
    "    \n",
    "    The equation is ran in parallel over the rows of E[:]\n",
    "    \n",
    "    Parameters\n",
    "    ----------\n",
    "    E : sympy.matrix [:]\n",
    "        system of equations E[j] = 0\n",
    "    q : sympy.matrix [:]\n",
    "        list of sympy symbols, functions or expressions\n",
    "    \n",
    "    Returns\n",
    "    -------\n",
    "    M : sympy.matris [:, :]\n",
    "        matrix M satisfying equation E[:] = M[:, :] . q[:]\n",
    "    '''\n",
    "    \n",
    "    # Function that will be executed in parallel\n",
    "    def func_M(E, q, i, b=None, c=None):\n",
    "        #--\n",
    "        toto = sym.symbols('toto')\n",
    "        if (b is None): b = [toto for i in range(len(q))]\n",
    "        if (c is None): c = [toto for i in range(len(q))]\n",
    "        #--\n",
    "        M = sym.zeros(len(q),1)\n",
    "        for j in range(q.shape[0]):\n",
    "            t_1 = time.time()\n",
    "            M[j] = E.coeff(b[j], n=0).coeff(c[j], n=0).coeff(q[j])\n",
    "            t_2 = time.time();\n",
    "            file_log = open('file_log.txt', 'a')\n",
    "            print((i, j), end=' ', file=file_log)\n",
    "            print(t_2 - t_1, file=file_log)\n",
    "            file_log.close()\n",
    "        #--\n",
    "        return (i, M)\n",
    "\n",
    "    # Executing the function in parallel\n",
    "    totos = Parallel(n_jobs=n_cores, verbose=par_verbose)(delayed(func_M)(E[i], q, i, b, c) for i in range(len(q)) )\n",
    "\n",
    "    # Collecting the values\n",
    "    M = sym.zeros(len(q), len(q))\n",
    "    for toto in totos:\n",
    "        i = toto[0]\n",
    "        for j in range(len(q)):\n",
    "            M[i, j] = toto[1][j]\n",
    "    del totos\n",
    "    #--\n",
    "    return M\n",
    "\n",
    "def func_var_subs(var, dict_1, dict_2, i, j):\n",
    "    '''\n",
    "    Substitutes the expression in var using the dictionaries dict_1 and dict_2\n",
    "    on this order. The counters i an j are used so this function can be called\n",
    "    by parallelized functios. The ipython console cannot be called by \n",
    "    parallelised functions, so the log file is used to register the function\n",
    "    progress.\n",
    "    \n",
    "    Parameters\n",
    "    ----------\n",
    "    var : sympy expression\n",
    "    dict_1 : dictionary {key: value}\n",
    "             key : sympy symbol, function or expression\n",
    "             value : sympy symbol, function or expression\n",
    "             the keys on dict_1 are substitued by corresponding values\n",
    "    dict_2 : dictionary {key: value}\n",
    "             key : sympy symbol, function or expression\n",
    "             value : sympy symbol, function or expression\n",
    "             the keys on dict_1 are substitued by corresponding values\n",
    "    i : int\n",
    "        counter used so the function can be called by parallelized functios\n",
    "    j : int\n",
    "        counter used so the function can be called by parallelized functios\n",
    "    \n",
    "    Returns\n",
    "    -------\n",
    "    (i, j var) : tuple\n",
    "                 i : int\n",
    "                     counter passed to the function as a paremeter so the\n",
    "                     function can be called by parallelized functios\n",
    "                 j : int\n",
    "                     counter passed to the function as a paremeter so the\n",
    "                     function can be called by parallelized functios\n",
    "                 var : sympy expression\n",
    "                       expression passed to the function where the keys in\n",
    "                       dict_1 and dict_2 have been replace by their\n",
    "                       correspondent values on this order, i.e. firt dict_1 and\n",
    "                       then dict_2.\n",
    "    '''\n",
    "    \n",
    "    t_1 = time.time()\n",
    "    #--\n",
    "    var = var.expand(trig=True).subs(dict_1).subs(dict_2)\n",
    "    #--\n",
    "    t_2 = time.time()\n",
    "    file_log = open('file_log.txt', 'a')    \n",
    "    print((i, j), end=' ', file=file_log)\n",
    "    print(t_2 - t_1, file=file_log)\n",
    "    file_log.close()\n",
    "    return (i, j, var)\n",
    "\n",
    "def assumptions(M, dict_1, dict_2={}):\n",
    "    '''\n",
    "    Substitutes the expressions in each term in the matrix M[i, j] using the\n",
    "    dictionaries dict_1 and dict_2 on this order. The dictionaries contain\n",
    "    assumptions used to simplify the matrix. The dictionaries can contain\n",
    "    symbolic symbols, functions or expressions such as multiplications.\n",
    "    \n",
    "    The function func_var_subs is ran in parallel over the physical cores in to\n",
    "    accelerate the process. The ipython console cannot be called by \n",
    "    parallelised functions, so the log file is used to register the function\n",
    "    progress.\n",
    "    \n",
    "    Paramters\n",
    "    ---------\n",
    "    M : sympy.matrix [:, :]\n",
    "        matrix of sympy expressions\n",
    "    dict_1 : dictionary {key: value}\n",
    "             key : sympy symbol, function or expression\n",
    "             value : sympy symbol, function or expression\n",
    "             the keys on dict_1 are substitued by corresponding values\n",
    "    dict_2 : dictionary {key: value}\n",
    "             key : sympy symbol, function or expression\n",
    "             value : sympy symbol, function or expression\n",
    "             the keys on dict_1 are substitued by corresponding values\n",
    "    \n",
    "    Returns\n",
    "    -------\n",
    "    M_res : sympy.matrix [:, :]\n",
    "            matrix  passed to the function where the keys in dict_1 and dict_2\n",
    "            have been replace by their correspondent values on this order, i.e.\n",
    "            firt dict_1 and then dict_2.\n",
    "    '''\n",
    "    \n",
    "    var = M.copy()\n",
    "    totos = Parallel(n_jobs=n_cores, verbose=par_verbose)(delayed(func_var_subs)(var[i, j], dict_small, dict_small_squared, i, j) for i in range(M.shape[0]) for j in range(M.shape[1]) )\n",
    "    M_res = sym.zeros(M.shape[0], M.shape[1])\n",
    "    for toto in totos:\n",
    "        i = toto[0]\n",
    "        j = toto[1]\n",
    "        M_res[i, j] = toto[2]\n",
    "    del totos\n",
    "    return M_res\n",
    "\n",
    "def assumptions_madd(M, dict_1, dict_2):\n",
    "    '''\n",
    "    Substitutes the expressions in each term in the matrix M[i, j] using the\n",
    "    dictionaries dict_1 and dict_2 on this order. The dictionaries contain\n",
    "    assumptions used to simplify the matrix. The dictionaries can contain\n",
    "    symbolic symbols, functions or expressions such as multiplications.\n",
    "    \n",
    "    The function func_var_subs is ran in parallel over the physical cores in to\n",
    "    accelerate the process. The ipython console cannot be called by \n",
    "    parallelised functions, so the log file is used to register the function\n",
    "    progress.\n",
    "    \n",
    "    Paramters\n",
    "    ---------\n",
    "    M : sympy.matrix [:, :]\n",
    "        matrix of sympy expressions\n",
    "        type(M[i, j]).__name__ must be Add for all i and j in M[:, :]\n",
    "    dict_1 : dictionary {key: value}\n",
    "             key : sympy symbol, function or expression\n",
    "             value : sympy symbol, function or expression\n",
    "             the keys on dict_1 are substitued by corresponding values\n",
    "    dict_2 : dictionary {key: value}\n",
    "             key : sympy symbol, function or expression\n",
    "             value : sympy symbol, function or expression\n",
    "             the keys on dict_1 are substitued by corresponding values\n",
    "    \n",
    "    Returns\n",
    "    -------\n",
    "    M_res : sympy.matrix [:, :]\n",
    "            matrix  passed to the function where the keys in dict_1 and dict_2\n",
    "            have been replace by their correspondent values on this order, i.e.\n",
    "            firt dict_1 and then dict_2.\n",
    "    '''\n",
    "    \n",
    "    possible = True\n",
    "    for i_m in range(M.shape[0]):\n",
    "        for j_m in range(M.shape[1]):\n",
    "            if (type(M[i_m, j_m]).__name__ != 'Add'):\n",
    "                possible = False\n",
    "    if (not possible):\n",
    "        print(\"I'm sorry Dave, I'm afraid I can't do that\", file=sys.stderr)\n",
    "    \n",
    "    M_res = M.copy()\n",
    "    for i_m in range(M.shape[0]):\n",
    "        for j_m in range(M.shape[1]):\n",
    "            arguments = list(M_res[i_m, j_m].args)\n",
    "            totos = Parallel(n_jobs=n_cores, verbose=par_verbose)(delayed(func_var_subs)(arguments[i], dict_small, dict_small_squared, i, 0) for i in range(len(arguments)) )\n",
    "            for toto in totos:\n",
    "                i = toto[0]\n",
    "                _ = toto[1]\n",
    "                arguments[i] = toto[2]\n",
    "            del totos\n",
    "            M_res[i_m,j_m] = M_res[i_m,j_m].func(*arguments)\n",
    "            \n",
    "    return M_res\n",
    "\n",
    "def func_var_simplify(var, i, j):\n",
    "    '''\n",
    "    This function calls the sympy methos doit, expand and simplify in order to\n",
    "    reduce expression complexity without making assumptions. The counters i an\n",
    "    j are used so this function can be called by parallelized functios. The\n",
    "    ipython console cannot be called by parallelised functions, so the log file\n",
    "    is used to register the function progress.\n",
    "    \n",
    "    Parameters\n",
    "    ----------\n",
    "    var : sympy expression\n",
    "    i : int\n",
    "        counter used so the function can be called by parallelized functios\n",
    "    j : int\n",
    "        counter used so the function can be called by parallelized functios\n",
    "    \n",
    "    Returns\n",
    "    -------\n",
    "    (i, j var) : tuple\n",
    "                 i : int\n",
    "                     counter passed to the function as a paremeter so the\n",
    "                     function can be called by parallelized functios\n",
    "                 j : int\n",
    "                     counter passed to the function as a paremeter so the\n",
    "                     function can be called by parallelized functios\n",
    "                 var : sympy expression\n",
    "                       expression simplified\n",
    "    '''\n",
    "    t_1 = time.time()\n",
    "    #--\n",
    "    var = var.doit().expand(trig=True).doit().simplify()\n",
    "    #--\n",
    "    t_2 = time.time()\n",
    "    file_log = open('file_log.txt', 'a')    \n",
    "    print((i, j), end=' ', file=file_log)\n",
    "    print(t_2 - t_1, file=file_log)\n",
    "    file_log.close()\n",
    "    return (i, j, var)\n",
    "\n",
    "def matrix_simplify(M):\n",
    "    '''\n",
    "    This function calls the sympy methos doit, expand and simplify in order to\n",
    "    reduce the complexity of each term of the matrix M[:, :] without making \n",
    "    assumptions.\n",
    "    \n",
    "    The function func_var_subs is ran in parallel over the physical cores in to\n",
    "    accelerate the process. The ipython console cannot be called by\n",
    "    parallelised functions, so the log file is used to register the function\n",
    "    progress.\n",
    "    \n",
    "    Paramters\n",
    "    ---------\n",
    "    M : sympy.matrix [:, :]\n",
    "        matrix of sympy expressions\n",
    "    \n",
    "    Returns\n",
    "    -------\n",
    "    M_s : sympy.matrix [:, :]\n",
    "          matrix  passed to the function simplified\n",
    "    '''\n",
    "    \n",
    "    var = M.copy()\n",
    "    totos = Parallel(n_jobs=n_cores, verbose=par_verbose)(delayed(func_var_simplify)(var[i, j], i, j) for i in range(M.shape[0]) for j in range(M.shape[1]) )\n",
    "    M_s = sym.zeros(M.shape[0], M.shape[1])\n",
    "    for toto in totos:\n",
    "        i = toto[0]\n",
    "        j = toto[1]\n",
    "        M_s[i, j] = toto[2]\n",
    "    del totos\n",
    "    return M_s\n",
    "\n",
    "def func_subs_integral(var, i, j, dz, z, R):\n",
    "    '''\n",
    "    This function calls the integrate method over the expression in var. The\n",
    "    terms linearly proportional to dz are selected, and the expression is\n",
    "    integrated from z to R. The counters i an j are used so this function can\n",
    "    be called by parallelized functios. The ipython console cannot be called by\n",
    "    parallelised functions, so the log file is used to register the function\n",
    "    progress.\n",
    "    \n",
    "    Parameters\n",
    "    ----------\n",
    "    var : sympy expression\n",
    "          the expression must contain at least one term containing dz\n",
    "    i : int\n",
    "        counter used so the function can be called by parallelized functios\n",
    "    j : int\n",
    "        counter used so the function can be called by parallelized functios\n",
    "    dz : sympy.Symbol\n",
    "         infinitesimal integration variable\n",
    "    z : sympy.Symbol\n",
    "        integration variable\n",
    "    R : sympy.Symbol\n",
    "        upper integration limit\n",
    "        \n",
    "    Returns\n",
    "    -------\n",
    "    (i, j, var) : tuple\n",
    "                 i : int\n",
    "                     counter passed to the function as a paremeter so the\n",
    "                     function can be called by parallelized functios\n",
    "                 j : int\n",
    "                     counter passed to the function as a paremeter so the\n",
    "                     function can be called by parallelized functios\n",
    "                 var : sympy expression\n",
    "                       sympy expression integraed       \n",
    "    '''\n",
    "    \n",
    "    t_1 = time.time()\n",
    "    #--\n",
    "    var = (var.coeff(dz).integrate((z,0,R), manual=True) + var.coeff(dz,n=0)).expand().doit()\n",
    "    #--\n",
    "    t_2 = time.time()\n",
    "    with open('file_log.txt', 'a') as file_log:\n",
    "        print('(%i, %i) %0.4f' %(i, j, t_2-t_1), file=file_log )\n",
    "    return (i, j, var)\n",
    "\n",
    "def func_integrate_par(expr, dz, z, R):\n",
    "    '''\n",
    "    This function calls the integrate method over the expression in var. The\n",
    "    terms linearly proportional to dz are selected, and the expression is\n",
    "    integrated from z to R. The expression must be constituted of additive\n",
    "    terms, i.e. type(expr.core.add.Add) == sympy.core.add.Add must be True\n",
    "    \n",
    "    The function unc_subs_integral is ran in parallel over the physical cores\n",
    "    in to accelerate the process. The ipython console cannot be called by\n",
    "    parallelised functions, so the log file is used to register the function\n",
    "    progress.\n",
    "    \n",
    "    Parameters\n",
    "    ----------\n",
    "    expr : sympy expression of the type sympy.core.add.Add\n",
    "           the expression must contain at least one term containing dz\n",
    "    dz : sympy.Symbol\n",
    "         infinitesimal integration variable\n",
    "    z : sympy.Symbol\n",
    "        integration variable\n",
    "    R : sympy.Symbol\n",
    "        upper integration limit\n",
    "        \n",
    "    Returns\n",
    "    -------\n",
    "    expr_int : sympy expression\n",
    "               sympy expression integraed       \n",
    "    '''\n",
    "    \n",
    "    if ( type(expr).__name__ == 'Add' ):\n",
    "        arguments = list(expr.args)\n",
    "        totos = Parallel(n_jobs=n_cores, verbose=par_verbose)(delayed(func_subs_integral)(arguments[i], i, 0, dz, z, R) for i in range(len(arguments)) )\n",
    "        for toto in totos:\n",
    "            i = toto[0]\n",
    "            # j = toto[1]\n",
    "            arguments[i] = toto[2]\n",
    "        del totos\n",
    "        expr_int = expr.func(*arguments)\n",
    "    else:\n",
    "        expr_int = []\n",
    "        sys.exit(\"expr type is not sympy.core.add.Add\")\n",
    "    return expr_int\n",
    "\n",
    "def lhs_print(lhs_str, rhs):\n",
    "    '''\n",
    "    This function displays the sympy equations adding the left hand side\n",
    "    defined in the input lhs_str.\n",
    "    \n",
    "    Parameters\n",
    "    ----------\n",
    "    lhs_str : string\n",
    "              left hand side of the equation on latex notation\n",
    "    rhs : sympy expression\n",
    "    '''\n",
    "    \n",
    "    lhs = sym.Symbol(lhs_str)\n",
    "    # lhs.name = lhs_str\n",
    "    \n",
    "    display(sym.relational.Eq(lhs, rhs, evaluate=False))\n"
   ]
  },
  {
   "cell_type": "markdown",
   "metadata": {},
   "source": [
    "## Symbolic constants\n",
    "\n",
    "The symbolic constants must be explicitly declared so that python nows their class methods and instances. Here we understand as constant a symblic variable that is not explicitly function of time. However, they may vary from time step\n",
    "to time step."
   ]
  },
  {
   "cell_type": "code",
   "execution_count": 27,
   "metadata": {
    "jupyter": {
     "source_hidden": true
    }
   },
   "outputs": [],
   "source": [
    "z  = sym.symbols('z') # [m] blade section centre z coordinate (local frame)\n",
    "dz = sym.symbols('dz')\n",
    "R  = sym.symbols('R') # [m] rotor radius\n",
    "m_n = sym.symbols('m_n') # [kg] nacelle mass\n",
    "m_h = sym.symbols('m_h') # [kg] hub mass\n",
    "\n",
    "I_x = sym.symbols('I_x') # [kg*m**2] nacelle moment of inertia around x axis (local frame)\n",
    "I_z = sym.symbols('I_z') # [kg*m**2] nacelle moment of inertia around z axis (local frame)\n",
    "\n",
    "h_t = sym.symbols('h_t') # [m] nacelle height\n",
    "s_l = sym.symbols('s_l') # [m] shaft length\n",
    "g = sym.symbols('g')     \n",
    "eta = sym.symbols('eta') # [rad] blade initial azimuthal position\n",
    "t = sym.symbols('t')     # [s] time\n",
    "k_x = sym.symbols('k_x') # [N/m] tower top equivalent linear stiffness on x axis (local frame)\n",
    "k_y = sym.symbols('k_y') # [N/m] tower top equivalent linear stiffness on y axis (local frame)\n",
    "\n",
    "Gt_x = sym.symbols('Gt_x') # [N*m/rad] tower top equivalent angular stiffness around x axis (local frame)\n",
    "Gt_z = sym.symbols('Gt_z') # [N*m/rad] tower top equivalent angular stiffness around y axis (local frame)\n",
    "Gt_xy = sym.symbols('Gt_xy')\n",
    "Gs_y = sym.symbols('Gs_y') # [N*m] shaft angular stiffness around y axis (local frame)\n",
    "\n",
    "omega = sym.Matrix(sym.symbols('omega_0:%i'%(n_m))) # blade natural frequencies\n",
    "\n",
    "tilt = sym.symbols('theta_tilt') # [rad] shaft tilt angle\n",
    "cone = sym.symbols('theta_cone') # [rad] blades cone angle\n",
    "pitch = sym.symbols('theta_pitch') # [rad] blades pitch angle\n",
    "\n",
    "pi = sym.pi # [-] pi constant\n",
    "g = sym.symbols('g') # [kg*m/s**2] gravity\n",
    "\n",
    "'''\n",
    "Sometimes is convenient to use a different nomenclature to print the latex on\n",
    "the Ipython console and for code generation. The dict_names gather the list of\n",
    "variables where the names are changed before generating the numrical code.\n",
    "'''\n",
    "\n",
    "dict_names = {omega[i]: 'omega[%i]' %i for i in range(n_m)}\n",
    "dict_names = {**dict_names, tilt: 'tilt', cone: 'cone', pitch: 'pitch'}"
   ]
  },
  {
   "cell_type": "markdown",
   "metadata": {},
   "source": [
    "## Funtions of z\n",
    "\n",
    "If a symbolic variable depends on another, for example the $z$ coordinate along the blade lenght, it is defined as an undefined function of that variable. Note that the module does not know the function shape, but knows their derivatives and integrals must be taken into account. A variable can be defined as a derivative of a symbolic variable."
   ]
  },
  {
   "cell_type": "code",
   "execution_count": 28,
   "metadata": {
    "jupyter": {
     "source_hidden": true
    }
   },
   "outputs": [],
   "source": [
    "# Blade section centre [m]\n",
    "x = sym.Function('x')(z) # [m] blade section centre x coordinate (local frame)\n",
    "y = sym.Function('y')(z) # [m] blade section centre y coordinate (local frame)\n",
    "\n",
    "# Blade section mass per unit of lenght [kg/m]\n",
    "m = sym.Function('m')(z)\n",
    "m_a = sym.Function('m_a')(z)\n",
    "\n",
    "# Blade mode shapes\n",
    "phi_x = sym.zeros(n_m,1)  # matrix of mode shapes in the x direction [phi_0_x, phi_1_x, phi_2_x].T [m]\n",
    "phi_y = sym.zeros(n_m,1)  # matrix of mode shapes in the x direction [phi_0_y, phi_1_y, phi_2_y].T [m]\n",
    "for i in range(phi_x.shape[0]):\n",
    "    phi_x[i] = sym.Function(('phi_x[%s,:]' %str(i)))(z)\n",
    "    phi_y[i] = sym.Function(('phi_y[%s,:]' %str(i)))(z)\n",
    "\n",
    "# Aerodynamic forces per unit length (generic blade)\n",
    "f_x_b = sym.Function('f_b_x')(z) # force per unit length on x direction (for a generic blade) [N/m]\n",
    "f_y_b = sym.Function('f_b_y')(z) # force per unit length on y direction (for a generic blade) [N/m]\n",
    "f_z_b = sym.Function('f_b_z')(z) # force per unit length on z direction (for a generic blade) [N/m]\n",
    "f_b = sym.Matrix([f_x_b, f_y_b, f_z_b]) # matrix with aerodynamic foreces [f_x_b, f_y_b, 0] (for a generic blade) [N/m]\n",
    "\n",
    "# Aerodynamic forces per unit length (blades 0, 1 and 2)\n",
    "f_x_0 = sym.Function('f_0_x')(z) # force per unit length on x direction (for blade 0) [N/m]\n",
    "f_y_0 = sym.Function('f_0_y')(z) # force per unit length on y direction (for blade 0) [N/m]\n",
    "f_z_0 = sym.Function('f_0_z')(z) # force per unit length on z direction (for blade 0) [N/m]\n",
    "f_x_1 = sym.Function('f_1_x')(z) # force per unit length on x direction (for blade 1) [N/m]\n",
    "f_y_1 = sym.Function('f_1_y')(z) # force per unit length on y direction (for blade 1) [N/m]\n",
    "f_z_1 = sym.Function('f_1_z')(z) # force per unit length on z direction (for blade 1) [N/m]\n",
    "f_x_2 = sym.Function('f_2_x')(z) # force per unit length on x direction (for blade 2) [N/m]\n",
    "f_y_2 = sym.Function('f_2_y')(z) # force per unit length on y direction (for blade 2) [N/m]\n",
    "f_z_2 = sym.Function('f_2_z')(z) # force per unit length on z direction (for blade 2) [N/m]\n",
    "\n",
    "# Aerodynamic force vectors (blades 0, 1 and 2)\n",
    "f_0 = sym.Matrix([f_x_0, f_y_0, f_z_0]) # matrix with foreces [f_x_b, f_y_b, 0] (for blade 0) [N/m]\n",
    "f_1 = sym.Matrix([f_x_1, f_y_1, f_z_1]) # matrix with foreces [f_x_b, f_y_b, 0] (for blade 1) [N/m]\n",
    "f_2 = sym.Matrix([f_x_2, f_y_2, f_z_2]) # matrix with foreces [f_x_b, f_y_b, 0] (for blade 2) [N/m]"
   ]
  },
  {
   "cell_type": "markdown",
   "metadata": {},
   "source": [
    "## Functions of time\n",
    "\n",
    "Symbolic variables which depend on the time can be declared as undefined functions as done above. The method \"dynamicsymbols\" has exactly the same effect, i.e. ``dynamicsymbol('theta') = sym.function('theta')(t)``. Bellow the problem variables which depend on time $t$, their first and second derivatives are declared."
   ]
  },
  {
   "cell_type": "code",
   "execution_count": 29,
   "metadata": {
    "jupyter": {
     "source_hidden": true
    }
   },
   "outputs": [],
   "source": [
    "# Time\n",
    "t = sym.symbols('t') # time [s]\n",
    "\n",
    "# Degrees of freedom\n",
    "q = sym.Matrix(dynamicsymbols('q[0:%i]'%(3*n_m+5))) # matrix of degrees of freedom [q_0, q_1, q_2, ..., q_11].T\n",
    "q_dot = q.diff(t)                        # (d/dt) [q_0, q_1, q_2, ..., q_11].T\n",
    "q_ddot = q_dot.diff(t)                   # (d**2/dt**2) [q_0, q_1, q_2, ..., q_11].T\n",
    "\n",
    "# Degrees of freedom (generic blade)\n",
    "qb = sym.Matrix(dynamicsymbols('qb_0:%i'%(n_m))) # matrix of blade degrees of freedom (for a generic blade) [qb_0, qb_1, qb_2].T\n",
    "qb_dot = qb.diff(t)                       # (d/dt) [qb_0, qb_1, qb_2].T\n",
    "qb_ddot = qb_dot.diff(t)                  # (d**2/dt**2) [qb_0, qb_1, qb_2].T\n",
    "\n",
    "# Shaft azimuth angle\n",
    "theta = dynamicsymbols('theta') # azimuth position of blade 0 [rad]\n",
    "theta_dot = theta.diff(t)       # (d/dt) theta [rad/s]\n",
    "theta_ddot = theta_dot.diff(t)  # (d**2/dt**2) theta [rad/s**2]\n",
    "\n",
    "# Rotor angular velocity\n",
    "Omega = dynamicsymbols('Omega') # (d/dt) rotor angular velocity [rad/s]\n",
    "Omega_dot = Omega.diff(t)       # (d**2/dt**2) Omega [rad/s**2]\n",
    "Omega_ddot = Omega_dot.diff(t)\n",
    "\n",
    "# Update the names dictionary\n",
    "dict_names = {**dict_names, **{qb[j]: 'q[%i*i_b+%i]' %(n_m,j) for j in range(n_m)}}"
   ]
  },
  {
   "cell_type": "markdown",
   "metadata": {},
   "source": [
    "## Dictionaries\n",
    "\n",
    "Python dictionaries, or associative arrays, are very useful in symbolic manipulation to perform substitutions. For example the symbolic displacement and velocity can be calculated for a generic blade and then the dictionaries dict_b0, dict_b1 and dict_b2 can be used to obtain the displacement and velocity expressions for blades 0, 1 and 2 respectively.\n",
    "\n",
    "Another important use of dictionaries is to perform assumptions. For example, the nacelle and shaft angular displacements are considered small and can be used to simplify trigonometric functions. However, when using the Lagrange method it is important to apply the assumptions only after the last calculting the derivatives. The dictionaries dict_small and dict_small_squared store the assumptions related to small displacements and velocities and their products. The function 'assumptions' constructed above can be used to apply the assumptions in dict_small and dict_small_squared, in which the parallel package is used to accelerate the substituion. It is important to note that althoug simple when only one term is replace by another can be carried out very fast, when an expression like a product is replaced by another the process is more computationally costly. In the later scenario performing the substituions in parallel over the additive terms of the expression can accelerate the process proportionaly to the number of physical cores."
   ]
  },
  {
   "cell_type": "code",
   "execution_count": 30,
   "metadata": {},
   "outputs": [],
   "source": [
    "# Generic blade to blade 0, 1 and 2 respectively\n",
    "dict_b0 = { eta: pi,                   **dict(zip(qb[0:n_m],q[0:n_m])), **dict(zip(f_b[:], f_0[:])) }\n",
    "dict_b1 = { eta: sym.Rational(5,3)*pi, **dict(zip(qb[0:n_m],q[n_m:2*n_m])), **dict(zip(f_b[:], f_1[:])) }\n",
    "dict_b2 = { eta: sym.Rational(7,3)*pi, **dict(zip(qb[0:n_m],q[2*n_m:3*n_m])), **dict(zip(f_b[:], f_2[:])) }\n",
    "\n",
    "# List of variables that vary with iterations\n",
    "iter_list = list(f_0[:2] + f_1[:2] + f_2[:2] + q[:] +\n",
    "                 q_dot[:] + q_ddot[:] + [theta, theta_dot, theta_ddot] + \n",
    "                 [Omega, Omega_dot, Omega_ddot])\n",
    "\n",
    "# Small deflections and small deflections derivatives assumption\n",
    "## sin(small) = small, cos(small) = 1.0\n",
    "list_small = [*q[:], *q_dot[:]]\n",
    "dict_small = {} # empty dictionary\n",
    "for small in list_small:\n",
    "    dict_small.update({sym.sin(small): small, sym.cos(small): 1, sym.tan(small): small})        \n",
    "\n",
    "## small*small = 0.0\n",
    "list_small_squared = [] # empty list\n",
    "for small1 in list_small:\n",
    "    for small2 in list_small:\n",
    "        list_small_squared = list_small_squared + [small1 * small2]\n",
    "set_small_squared = set(list_small_squared) # eliminate repetead items by using the set data structure\n",
    "dict_small_squared = {small: 0 for small in set_small_squared}\n",
    "\n",
    "# The integration of orthogonal mode shapes is zero\n",
    "dict_mode_shapes_product = {}\n",
    "for i in range(len(phi_x)):\n",
    "    for j in range(len(phi_x)):\n",
    "        if (i!=j):\n",
    "            dict_mode_shapes_product.update({phi_x[i]*phi_x[j]: 0, phi_y[i]*phi_y[j]: 0})\n"
   ]
  },
  {
   "cell_type": "markdown",
   "metadata": {},
   "source": [
    "## Model simplifications (<font color='red'>only for demonstrating the code concisely</font>)\n",
    "\n",
    "When considering all 14 degrees of freedom the equations of motion become considerably large, which is the motivation for using a symbolic computational package in the first place.\n",
    "\n",
    "However, in order to demonstrate how the code works, check the equations and the numerical code generator, some simplications on the model are applied. The tilt and cone angles $\\theta_{tilt}$ and $\\theta_{cone}$ are equal to zero and the angular motions of the nacelle and the shaft are disregarded.\n",
    "\n",
    "<font color='red'>If the variable $\\textit{is_demonstration}$ is set to False, the code used in the project will be generated. Note that the code in the project aslo neglected theta_tx</font>. Note that the code in the project aslo neglected $\\theta_{t,x}$."
   ]
  },
  {
   "cell_type": "code",
   "execution_count": 31,
   "metadata": {},
   "outputs": [],
   "source": [
    "tilt = 0\n",
    "cone = 0\n",
    "# g = 0\n",
    "\n",
    "# ut_x = q[3*n_m]\n",
    "ut_y = q[3*n_m+0]\n",
    "# theta_tz = q[3*n_m+2]\n",
    "# theta_sy = q[3*n_m+3]\n",
    "\n",
    "ut_x, theta_tx, theta_tz, theta_sy = [0 for i in range(4)]\n",
    "for i in range(4):\n",
    "    q[-(i+1)] = 0\n",
    "    q_dot[-(i+1)] = 0\n",
    "    q_ddot[-(i+1)] = 0"
   ]
  },
  {
   "cell_type": "markdown",
   "metadata": {},
   "source": [
    "## Transformation tensors\n",
    "\n",
    "The tensor $\\mathbf{A}_{01}$ transforms from inertial reference frame $O_0$ to the tower top reference frame $O_1$ and handles the angular displacements of the tower top due its deformation around the $x$ and $z$ axis. It is assumed the angular displacements are small so the order of the tensor contraction in the equation below is not important. However, the assumptions are applied only after the Lagrange equations.\n",
    "\n",
    "$$\n",
    "\\mathbf{A}_{01} = \\left( \\left[\\begin{matrix}1 & 0 & 0\\\\0 & \\cos{\\left(\\theta_{t,x}{\\left(t \\right)} \\right)} & \\sin{\\left(\\theta_{t,x}{\\left(t \\right)} \\right)}\\\\0 & - \\sin{\\left(\\theta_{t,x}{\\left(t \\right)} \\right)} & \\cos{\\left(\\theta_{t,x}{\\left(t \\right)} \\right)}\\end{matrix}\\right]^{T} \\cdot \\left[\\begin{matrix}\\cos{\\left(\\theta_{t,z}{\\left(t \\right)} \\right)} & \\sin{\\left(\\theta_{t,z}{\\left(t \\right)} \\right)} & 0\\\\- \\sin{\\left(\\theta_{t,z}{\\left(t \\right)} \\right)} & \\cos{\\left(\\theta_{t,z}{\\left(t \\right)} \\right)} & 0\\\\0 & 0 & 1\\end{matrix}\\right]^{T} \\right)^{T}\n",
    "$$\n",
    "\n",
    "The tensor $\\mathbf{A}_{12}$ transforms from the tower top reference frame $O_1$ to the nacelle reference frame $O_2$, tilted $\\theta_{tilt}$ in relation to $O_1$ around the $x$ axis.\n",
    "\n",
    "$$\n",
    "\\mathbf{A}_{12} = \\left[\\begin{matrix}1 & 0 & 0\\\\0 & \\cos{\\left(\\theta_{tilt} \\right)} & \\sin{\\left(\\theta_{tilt} \\right)}\\\\0 & - \\sin{\\left(\\theta_{tilt} \\right)} & \\cos{\\left(\\theta_{tilt} \\right)}\\end{matrix}\\right]\n",
    "$$\n",
    "\n",
    "The tensor $\\mathbf{A}_{23}$ transforms from the nacelle reference frame $O_2$ to the shaft tip rotating reference frame $O_3$, rotated $\\left[\\eta + \\theta_b\\left(t\\right) + \\theta_{s,y}\\left(t\\right)\\right]$ in relation to $O_2$ around the $y$ axis.\n",
    "\n",
    "$$\n",
    "\\mathbf{A}_{23} = \\left[\\begin{matrix}\\cos{\\left(\\eta + \\theta{\\left(t \\right)} + \\theta_{s,y}{\\left(t \\right)} \\right)} & 0 & - \\sin{\\left(\\eta + \\theta{\\left(t \\right)} + \\theta_{s,y}{\\left(t \\right)} \\right)}\\\\0 & 1 & 0\\\\\\sin{\\left(\\eta + \\theta{\\left(t \\right)} + \\theta_{s,y}{\\left(t \\right)} \\right)} & 0 & \\cos{\\left(\\eta + \\theta{\\left(t \\right)} + \\theta_{s,y}{\\left(t \\right)} \\right)}\\end{matrix}\\right]\n",
    "$$\n",
    "\n",
    "The tensor $\\mathbf{A}_{34}$ transforms from the shaft tip reference frame $O_3$ to the blade root reference frame $O_4$, conned and angle $\\theta_{cone}$ in relation from $O_3$ around the $x$ axis.\n",
    "\n",
    "$$\n",
    "\\mathbf{A}_{34} = \\left[\\begin{matrix}1 & 0 & 0\\\\0 & \\cos{\\left(\\theta_{cone} \\right)} & \\sin{\\left(\\theta_{cone} \\right)}\\\\0 & - \\sin{\\left(\\theta_{cone} \\right)} & \\cos{\\left(\\theta_{cone} \\right)}\\end{matrix}\\right]\n",
    "$$"
   ]
  },
  {
   "cell_type": "code",
   "execution_count": 32,
   "metadata": {},
   "outputs": [
    {
     "data": {
      "text/latex": [
       "$\\displaystyle A_{01} = \\left[\\begin{matrix}1 & 0 & 0\\\\0 & 1 & 0\\\\0 & 0 & 1\\end{matrix}\\right]$"
      ],
      "text/plain": [
       "Eq(A_01, Matrix([\n",
       "[1, 0, 0],\n",
       "[0, 1, 0],\n",
       "[0, 0, 1]]))"
      ]
     },
     "metadata": {},
     "output_type": "display_data"
    }
   ],
   "source": [
    "# tower top rotation (due to tower deformation)\n",
    "A_01 = red( rotate_matrix(theta_tx, 'x').T * rotate_matrix(theta_tz, 'z').T ).T\n",
    "\n",
    "# Shaft tilt\n",
    "A_12 = rotate_matrix(tilt, 'x')\n",
    "\n",
    "# Shaft tip azimutal position (blade 0)\n",
    "A_23 = rotate_matrix(theta + eta + theta_sy, 'y') # rotor azimutal position (blade 0)\n",
    "\n",
    "# Rotor conning\n",
    "A_34 = rotate_matrix(cone, 'x')  \n",
    "\n",
    "# Combined transformation tensors\n",
    "A_04 = red( A_01.T * A_12.T * A_23.T * A_34.T ).T\n",
    "\n",
    "lhs_print('A_01', A_01)\n",
    "\n",
    "transformation_matrices = {}\n",
    "transformation_matrices['A_01'] = A_01.xreplace({theta_dot: Omega})\n",
    "transformation_matrices['A_12'] = A_12.xreplace({theta_dot: Omega})\n",
    "transformation_matrices['A_23'] = A_23.xreplace({theta_dot: Omega})\n",
    "transformation_matrices['A_34'] = A_34.xreplace({theta_dot: Omega})"
   ]
  },
  {
   "cell_type": "code",
   "execution_count": null,
   "metadata": {},
   "outputs": [],
   "source": []
  },
  {
   "cell_type": "markdown",
   "metadata": {},
   "source": [
    "## Angular velocity tensors\n",
    " \n",
    "The angular velocity tensors are calculated using eqs. (2.26) to (2.29).\n",
    "\n",
    "$$\n",
    "{}_{_1}\\boldsymbol{\\Omega}_{01} = \\mathbf{A}_{01} \\cdot \\frac{d}{dt}\\left(\\mathbf{A}_{01}^{T}\\right)\n",
    "$$\n",
    "$$\n",
    "{}_{_3}\\boldsymbol{\\Omega}_{23} = \\mathbf{A}_{23} \\cdot \\frac{d}{dt}\\left(\\mathbf{A}_{23}^{T}\\right)\n",
    "$$\n",
    "\n",
    "$$\n",
    "{}_{_3}\\boldsymbol{\\Omega}_{01} = \\mathbf{A}_{23} \\cdot \\mathbf{A}_{12} \\cdot {}_{_1}\\boldsymbol{\\Omega}_{01} \\cdot \\mathbf{A}_{12}^{T} \\cdot \\mathbf{A}_{23}^T\n",
    "$$\n",
    "$$\n",
    "{}_{_4}\\boldsymbol{\\Omega}_{01} = \\mathbf{A}_{34} \\cdot {}_{_3}\\boldsymbol{\\Omega}_{01} \\cdot \\mathbf{A}_{34}^{T}\n",
    "$$\n",
    "$$\n",
    "{}_{_4}\\boldsymbol{\\Omega}_{23} = \\mathbf{A}_{34} \\cdot {}_{_3}\\boldsymbol{\\Omega}_{23} \\cdot \\mathbf{A}_{34}^{T}\n",
    "$$"
   ]
  },
  {
   "cell_type": "code",
   "execution_count": 33,
   "metadata": {},
   "outputs": [
    {
     "name": "stderr",
     "output_type": "stream",
     "text": [
      "[Parallel(n_jobs=2)]: Using backend LokyBackend with 2 concurrent workers.\n",
      "[Parallel(n_jobs=2)]: Done   9 out of   9 | elapsed:    0.8s finished\n",
      "[Parallel(n_jobs=2)]: Using backend LokyBackend with 2 concurrent workers.\n",
      "[Parallel(n_jobs=2)]: Done   6 out of   9 | elapsed:    0.0s remaining:    0.0s\n",
      "[Parallel(n_jobs=2)]: Done   9 out of   9 | elapsed:    0.0s finished\n",
      "[Parallel(n_jobs=2)]: Using backend LokyBackend with 2 concurrent workers.\n",
      "[Parallel(n_jobs=2)]: Done   6 out of   9 | elapsed:    0.0s remaining:    0.0s\n",
      "[Parallel(n_jobs=2)]: Done   9 out of   9 | elapsed:    0.0s finished\n",
      "[Parallel(n_jobs=2)]: Using backend LokyBackend with 2 concurrent workers.\n"
     ]
    },
    {
     "name": "stdout",
     "output_type": "stream",
     "text": [
      "Omega_01_1 =\n"
     ]
    },
    {
     "name": "stderr",
     "output_type": "stream",
     "text": [
      "[Parallel(n_jobs=2)]: Done   6 out of   9 | elapsed:    0.7s remaining:    0.3s\n",
      "[Parallel(n_jobs=2)]: Done   9 out of   9 | elapsed:    0.7s finished\n",
      "[Parallel(n_jobs=2)]: Using backend LokyBackend with 2 concurrent workers.\n",
      "[Parallel(n_jobs=2)]: Done   6 out of   9 | elapsed:    0.1s remaining:    0.0s\n",
      "[Parallel(n_jobs=2)]: Done   9 out of   9 | elapsed:    0.1s finished\n"
     ]
    },
    {
     "data": {
      "text/latex": [
       "$\\displaystyle \\left[\\begin{matrix}0 & 0 & 0\\\\0 & 0 & 0\\\\0 & 0 & 0\\end{matrix}\\right]$"
      ],
      "text/plain": [
       "Matrix([\n",
       "[0, 0, 0],\n",
       "[0, 0, 0],\n",
       "[0, 0, 0]])"
      ]
     },
     "metadata": {},
     "output_type": "display_data"
    },
    {
     "name": "stdout",
     "output_type": "stream",
     "text": [
      "\n",
      "\n",
      "Omega_23_3 =\n"
     ]
    },
    {
     "data": {
      "text/latex": [
       "$\\displaystyle \\left[\\begin{matrix}0 & 0 & \\frac{d}{d t} \\theta{\\left(t \\right)}\\\\0 & 0 & 0\\\\- \\frac{d}{d t} \\theta{\\left(t \\right)} & 0 & 0\\end{matrix}\\right]$"
      ],
      "text/plain": [
       "Matrix([\n",
       "[                       0, 0, Derivative(theta(t), t)],\n",
       "[                       0, 0,                       0],\n",
       "[-Derivative(theta(t), t), 0,                       0]])"
      ]
     },
     "metadata": {},
     "output_type": "display_data"
    },
    {
     "name": "stdout",
     "output_type": "stream",
     "text": [
      "\n",
      "\n"
     ]
    }
   ],
   "source": [
    "Omega_01_1 = matrix_simplify( A_01 * A_01.T.diff(t) )\n",
    "Omega_01_3 = matrix_simplify( A_23*A_12 * Omega_01_1 * A_12.T*A_23.T )\n",
    "Omega_01_4 = matrix_simplify( A_34*A_23*A_12 * Omega_01_1 * A_12.T*A_23.T*A_34.T )\n",
    "\n",
    "Omega_23_3 = matrix_simplify( A_23 * A_23.T.diff(t) )\n",
    "Omega_23_4 = matrix_simplify( A_34 * Omega_23_3 * A_34.T )\n",
    "\n",
    "print('Omega_01_1 ='); display(Omega_01_1); print('\\n')\n",
    "print('Omega_23_3 ='); display(Omega_23_3); print('\\n')\n",
    "\n",
    "rotation_matrices = {}\n",
    "rotation_matrices['Omega_01_1'] = Omega_01_1.xreplace({theta_dot: Omega})\n",
    "rotation_matrices['Omega_01_3'] = Omega_01_3.xreplace({theta_dot: Omega})\n",
    "rotation_matrices['Omega_01_4'] = Omega_01_4.xreplace({theta_dot: Omega})\n",
    "rotation_matrices['Omega_23_3'] = Omega_23_3.xreplace({theta_dot: Omega})\n",
    "rotation_matrices['Omega_23_4'] = Omega_23_4.xreplace({theta_dot: Omega})"
   ]
  },
  {
   "cell_type": "markdown",
   "metadata": {},
   "source": [
    "## Local position vectors\n",
    "\n",
    "$\\mathbf{r}_{t}$ is the position vector from the base of the turbine tower to it's top, $u_{t,x}\\left(t\\right)$ and $u_{t,y}\\left(t\\right)$ are the tower top elastic displacement on the ${}_{_0}x$ and ${}_{_0}y$ directions respectively and $h_t$ is the tower height. ${}_{_3}r_{s}$ is a position vector from the tower top to the shaft tip on reference frame $O_3$ where $s_l$ is the shaft length. Finally ${}_{_4}\\mathbf{r}_{b}$ is the position vector of a blade defined on the blade coordinate system reference frame.\n",
    "\n",
    "$$\n",
    "{}_{_0}\\mathbf{r}_t = \\begin{bmatrix} u_{t,x}\\left(t\\right) \\\\ u_{t,x}\\left(t\\right) \\\\ -h_t \\end{bmatrix}\n",
    "\\quad\n",
    "{}_{_3}\\mathbf{r}_s =\\left[\\begin{matrix}0\\\\- s_{l}\\\\0\\end{matrix}\\right]\n",
    "\\quad\n",
    "{}_{_4}\\mathbf{r}_b = \\begin{bmatrix} x_{b}\\left(t,z\\right) \\\\ y_{b}\\left(t,z\\right) \\\\ z \\end{bmatrix}\n",
    "$$\n",
    "\n",
    "The blades section position ${}_{_4}\\mathbf{r}_b$ and displacement is modelled by a modal expansion defined on its moving reference frame. The first term in equations below represent the initial or non-deformed position of the blade section in relation to the blade root. The second terms represent the displacement in relation to the non-deformed position where $\\phi_{i, x}\\left(z\\right)$ and $\\phi_{i, y}\\left(z\\right)$ are the $i^{th}$ blade mode shapes on the edge and flapwise directions respectively and $q_i\\left(t\\right)$ are the blades modal coordinates. In this work, only three mode shapes are used to describe motion of the blades, namely the first flap-wise, the first edge-wise and the second flap-wise modes.\n",
    "\n",
    "$$\n",
    "x_{b}\\left(t, z\\right) = x_{b}\\left(t_0, z\\right) + \\sum_{i=0}^{n} q_{3b+i}\\left(t\\right) \\phi_{i, x}\\left(z\\right)\n",
    "$$\n",
    "$$\n",
    "y_{b}\\left(t, z\\right) = y_{b}\\left(t_0, z\\right) + \\sum_{i=0}^{n} q_{3b+i}\\left(t\\right) \\phi_{i, y}\\left(z\\right)\n",
    "$$"
   ]
  },
  {
   "cell_type": "code",
   "execution_count": 34,
   "metadata": {},
   "outputs": [
    {
     "name": "stdout",
     "output_type": "stream",
     "text": [
      "r_t = \n"
     ]
    },
    {
     "data": {
      "text/latex": [
       "$\\displaystyle \\left[\\begin{matrix}0\\\\\\operatorname{q[12]}{\\left(t \\right)}\\\\- h_{t}\\end{matrix}\\right]$"
      ],
      "text/plain": [
       "Matrix([\n",
       "[       0],\n",
       "[q[12](t)],\n",
       "[    -h_t]])"
      ]
     },
     "metadata": {},
     "output_type": "display_data"
    },
    {
     "name": "stdout",
     "output_type": "stream",
     "text": [
      "\n",
      "\n",
      "r_s = \n"
     ]
    },
    {
     "data": {
      "text/latex": [
       "$\\displaystyle \\left[\\begin{matrix}0\\\\- s_{l}\\\\0\\end{matrix}\\right]$"
      ],
      "text/plain": [
       "Matrix([\n",
       "[   0],\n",
       "[-s_l],\n",
       "[   0]])"
      ]
     },
     "metadata": {},
     "output_type": "display_data"
    },
    {
     "name": "stdout",
     "output_type": "stream",
     "text": [
      "\n",
      "\n",
      "r_b = \n"
     ]
    },
    {
     "data": {
      "text/latex": [
       "$\\displaystyle \\left[\\begin{matrix}\\phi_{x[0,:]}{\\left(z \\right)} \\operatorname{qb_{0}}{\\left(t \\right)} + \\phi_{x[1,:]}{\\left(z \\right)} \\operatorname{qb_{1}}{\\left(t \\right)} + \\phi_{x[2,:]}{\\left(z \\right)} \\operatorname{qb_{2}}{\\left(t \\right)} + \\phi_{x[3,:]}{\\left(z \\right)} \\operatorname{qb_{3}}{\\left(t \\right)} + x{\\left(z \\right)}\\\\\\phi_{y[0,:]}{\\left(z \\right)} \\operatorname{qb_{0}}{\\left(t \\right)} + \\phi_{y[1,:]}{\\left(z \\right)} \\operatorname{qb_{1}}{\\left(t \\right)} + \\phi_{y[2,:]}{\\left(z \\right)} \\operatorname{qb_{2}}{\\left(t \\right)} + \\phi_{y[3,:]}{\\left(z \\right)} \\operatorname{qb_{3}}{\\left(t \\right)} + y{\\left(z \\right)}\\\\z\\end{matrix}\\right]$"
      ],
      "text/plain": [
       "Matrix([\n",
       "[phi_x[0,:](z)*qb_0(t) + phi_x[1,:](z)*qb_1(t) + phi_x[2,:](z)*qb_2(t) + phi_x[3,:](z)*qb_3(t) + x(z)],\n",
       "[phi_y[0,:](z)*qb_0(t) + phi_y[1,:](z)*qb_1(t) + phi_y[2,:](z)*qb_2(t) + phi_y[3,:](z)*qb_3(t) + y(z)],\n",
       "[                                                                                                   z]])"
      ]
     },
     "metadata": {},
     "output_type": "display_data"
    },
    {
     "name": "stdout",
     "output_type": "stream",
     "text": [
      "\n",
      "\n"
     ]
    }
   ],
   "source": [
    "# Tower top position (frame 0)\n",
    "r_t = sym.Matrix([ ut_x, ut_y, -h_t])\n",
    "\n",
    "# Shaft end position (frame 3)\n",
    "r_s = sym.Matrix([ 0, -s_l, 0])\n",
    "\n",
    "# Blade section position (frame 5)\n",
    "r_b = sym.Matrix([qb[0:n_m,0].T*phi_x, qb[0:n_m,0].T*phi_y, [z]]) + sym.Matrix([x, y, 0])\n",
    "\n",
    "print('r_t = '); display(r_t); print('\\n')\n",
    "print('r_s = '); display(r_s); print('\\n')\n",
    "print('r_b = '); display(r_b); print('\\n')\n",
    "\n",
    "position_vectors = {}\n",
    "position_vectors['r_t0'] = r_t\n",
    "position_vectors['r_s3'] = r_s\n",
    "position_vectors['v_t0'] = r_t.diff(t)"
   ]
  },
  {
   "cell_type": "markdown",
   "metadata": {},
   "source": [
    "## Absolute position vectors\n",
    "\n",
    "The position vector of a blade element on the inertial reference frame and on the blade reference frame are given by the equations given below respectively. The position vector in the inertial reference frame is more convenient for calculating the gravitational potential energy, while the position vector on the blade reference frame is more convinient for calculating the non-conservative work done by the aerodynamic forces on the blade.\n",
    "\n",
    "$$\n",
    "{}_{_0}\\mathbf{r}\\left(t\\right) = {}_{_0}\\mathbf{r}_t\\left(t\\right) + \\mathbf{A}_{01}^{T}\\left(t\\right) \\cdot \\mathbf{A}_{12}^{T} \\cdot \\mathbf{A}_{23}^{T}\\left(t\\right) \\cdot \\left[{}_{_3}\\mathbf{r}_s + \\mathbf{A}_{34}^{T} \\cdot {}_{_4}\\mathbf{r}_b\\left(t\\right) \\right]\n",
    "$$\n",
    "\n",
    "$$\n",
    "{}_{_4}\\mathbf{r} = \\mathbf{A}_{04}^{T}\\left(t\\right) \\cdot {}_{_0}\\mathbf{r}_t\\left(t\\right) +\\mathbf{A}_{34}^{T} \\cdot {}_{_0}\\mathbf{r}_s + {}_{_0}\\mathbf{r}_b \n",
    "$$\n"
   ]
  },
  {
   "cell_type": "code",
   "execution_count": 35,
   "metadata": {},
   "outputs": [],
   "source": [
    "# Total position (frame 0)\n",
    "r_0 = r_t + red(A_01.T*A_12.T*A_23.T) * (r_s + A_34.T * r_b)\n",
    "r_0 = r_0.expand()\n",
    "\n",
    "# Total position (frame 6)\n",
    "r_4 = A_04*r_t + A_34*r_s + r_b\n",
    "\n",
    "# Dictionary substitutions\n",
    "r_0_b0 = r_0.xreplace(dict_b0)\n",
    "r_0_b1 = r_0.xreplace(dict_b1)\n",
    "r_0_b2 = r_0.xreplace(dict_b2)\n",
    "r_4_b0 = r_4.xreplace(dict_b0)\n",
    "r_4_b1 = r_4.xreplace(dict_b1)\n",
    "r_4_b2 = r_4.xreplace(dict_b2)"
   ]
  },
  {
   "cell_type": "markdown",
   "metadata": {},
   "source": [
    "## Absolute blade velocity vector in blade frame (frame 4)\n",
    "\n",
    "The absolute velocity is obtained taking the derivative of the position equation. However, it is often more convenient to express the velocity in the local referential frame, which is achieved simply multiplying the terms in the velocity vector equation by the transformation tensors.\n",
    "\n",
    "$$\n",
    "{}_{_4}\\mathbf{v}\\left(t\\right) = \\mathbf{A}_{04} \\cdot \\frac{d}{dt}\\left({}_{_0}\\mathbf{r}_t\\right) +  \\mathbf{A}_{34} \\cdot \\left[ {}_{_3}\\mathbf{\\Omega}_{01}\\left(t\\right) + {}_{_3}\\mathbf{\\Omega}_{23}\\left(t\\right) \\right] \\cdot {}_{_3}\\mathbf{r}_s + \\left[ {}_{_4}\\mathbf{\\Omega}_{01}\\left(t\\right) + {}_{_4}\\mathbf{\\Omega}_{23}\\left(t\\right) \\right] \\cdot {}_{_4}\\mathbf{r}_b\\left(t\\right) + \\frac{d}{dt}\\left({}_{_4}\\mathbf{r}_b\\right)\n",
    "$$\n",
    "\n",
    "The absolute velocity vector is generally more compact when written in the object frame of reference. The velocity equation derived does not require to be simplified. The kinetic energy is an scalar and does not depend of the frame of reference in which the velocity is described, but the time used to simplify the kinetic energy equation is greatly affected by it."
   ]
  },
  {
   "cell_type": "code",
   "execution_count": 36,
   "metadata": {},
   "outputs": [],
   "source": [
    "v_4 = A_04*r_t.diff(t) + A_34*(Omega_01_3 + Omega_23_3)*r_s + (Omega_01_4 + Omega_23_4)*r_b + r_b.diff(t)             \n",
    "v_4 = v_4.expand()"
   ]
  },
  {
   "cell_type": "markdown",
   "metadata": {},
   "source": [
    "# Kinectic energy\n",
    "\n",
    "It is always possible to derive the systems equations of motion from the direct application of Newton's laws of motion. However, the Lagrange or energy method often offer a more straightforward and automatic method to implement with the aid of symbolic computational tools. In addition to simplifying the process of obtaining the equations of motion, the use of computational math packages is especially convenient for automatic code generation as will be show later. In order to derive the equations of motion using the Lagrange method is first necessary to derive the kinetic and potential energy of the wind turbine and the work done by non-conservative forces acting on it as a function of the generalised degrees of freedom.\n",
    "\n",
    "The total kinetic energy associated with the motion of the wind turbine is given by the equation below. The first term represents the kinetic energy associated with the nacelle and hub translation velocity while the second and third terms represents the energy associated with its angular velocity. The fourth term is the integral of the energy associated with the translation of the blade segments along the three blades. It must be noted that the energy associated with the rotation of the blades segments around their respective centre of mass is small and is therefore disregarded.\n",
    "\n",
    "$$\n",
    "E_{kin} = \\frac{1}{2} \\left(m_n+m_h\\right) \\left[ \\dot{u}_{t,x}^{2}\\left(t\\right) + \\dot{u}_{t,x}^{2}\\left(t\\right) \\right] + \\frac{1}{2} I_{t,x} \\dot{\\theta}_{t,x}^{2}\\left(t\\right) + \\frac{1}{2} I_{t,z} \\dot{\\theta}_{t,z}^{2}\\left(t\\right) + \\frac{1}{2}\\sum_{b=0}^{n_b}  \\int_{z_0}^{z_R} m\\left(z\\right) v_b^2\\left(t, z\\right) dz\n",
    "$$\n",
    "\n",
    "It is important to note that the mode shapes are declared as undefined functions of $z$, i.e. the code does not know the integral of ortohogonal mode shapes is zero, and the product of two orthogonal mode shapes must be substituded by zero."
   ]
  },
  {
   "cell_type": "code",
   "execution_count": 37,
   "metadata": {},
   "outputs": [
    {
     "name": "stderr",
     "output_type": "stream",
     "text": [
      "[Parallel(n_jobs=2)]: Using backend LokyBackend with 2 concurrent workers.\n",
      "[Parallel(n_jobs=2)]: Done  50 tasks      | elapsed:   21.1s\n",
      "[Parallel(n_jobs=2)]: Done  77 out of  77 | elapsed:   48.6s finished\n"
     ]
    }
   ],
   "source": [
    "# Velocity squared (generic blade)\n",
    "vs = (v_4.T * v_4)[0].doit().expand()\n",
    "\n",
    "# Eliminating the product of orthogonal mode-shapes\n",
    "vs = vs.subs(dict_mode_shapes_product)\n",
    "\n",
    "# Velocity squared (blades 0, 1 and 2)\n",
    "vs_b0 = vs.xreplace(dict_b0)\n",
    "vs_b1 = vs.xreplace(dict_b1)\n",
    "vs_b2 = vs.xreplace(dict_b2)\n",
    "\n",
    "# Tower kinetic energy\n",
    "E_kin_0 = sym.Rational(1, 2)*(m_n+m_h)*( sym.diff(ut_x, t)**2 + sym.diff(ut_y, t)**2 ) + sym.Rational(1, 2)*(I_x*sym.diff(theta_tx, t)**2 + I_z*sym.diff(theta_tz, t)**2)\n",
    "\n",
    "# Blades kinetic energy\n",
    "E_kin_1 = sym.Rational(1, 2)*(m*(vs_b0+vs_b1+vs_b2) *dz)\n",
    "\n",
    "# Total kinetic \n",
    "E_kin = E_kin_0 + E_kin_1\n",
    "E_kin = E_kin.doit().expand()\n",
    "\n",
    "# Integrating over the blade length\n",
    "E_kin = func_integrate_par(E_kin, dz, z, R)"
   ]
  },
  {
   "cell_type": "markdown",
   "metadata": {},
   "source": [
    "# Potential energy\n",
    "\n",
    "The total potential energy of the wind turbine is given by the equation below. The first term is associated with the energy necessary to deflect the tower top where $k_{t,x}$ and $k_{t,y}$ are the forward and lateral translational stiffness respectively, $g_{t,x}$ is the bending stiffness and $g_{t,z}$ is the tower yawing stiffness. The second term is associated with the shaft torsion energy, where $g_{s,y}$ is the shaft torsional stiffness. The third term is associated with the blades deflection energy, where the blade resistance to deflection in modal coordinates is expressed in terms of its of its modal stiffness. The last term represents the blades potential energy where ${}_{_0}r_{b,z}$ is blade position vector in the inertial reference frame and the minus sign is related to the direction of $z$ axis in the inertial reference frame.\n",
    "\n",
    "$$\n",
    "E_{pot} = \\frac{1}{2} \\left[k_{t, x} u_{t,x}^2\\left(t\\right) + k_{t, y} u_{t,y}^2\\left(t\\right) + g_{t,x} \\theta_{t,x}^{2}\\left(t\\right) + g_{t,z} \\theta_{t,z}^{2}\\left(t\\right)  \\right] + \\frac{1}{2} \\left[g_{s, y} \\theta_{s}^{2} \\right] + \\sum_{b=0}^{n_b} \\sum_{i=0}^{n_m} \\omega_{i}^{2} \\int_{z_0}^{z_R} m\\left(z\\right) \\left[\\phi_{i,x}^2\\left(z\\right) + \\phi_{i,y}^2\\left(z\\right)\\right] q_{3b+i}\\left(t\\right) dz - \\sum_{b=0}^{n_b} g \\int_{z_0}^{z_R} m\\left(z\\right) {}_{_0}r_{b,z}\\left(t, z\\right) dz\n",
    "$$\n",
    "\n",
    "It is important to note that the modal stiffness does not account for the blade stiffening due to the centrifugal forces. As the rotor angular speed increases, so does the centrifugal forces and the blade tension in the z direction. This tension increases the stiffness on the x and y directions as well."
   ]
  },
  {
   "cell_type": "code",
   "execution_count": 38,
   "metadata": {},
   "outputs": [
    {
     "name": "stderr",
     "output_type": "stream",
     "text": [
      "[Parallel(n_jobs=2)]: Using backend LokyBackend with 2 concurrent workers.\n",
      "[Parallel(n_jobs=2)]: Done  44 out of  44 | elapsed:   16.5s finished\n"
     ]
    }
   ],
   "source": [
    "# Tower potential energy\n",
    "E_pot_T = sym.Rational(1, 2)*( k_x*ut_x**2 + k_y*ut_y**2 + Gt_x*theta_tx**2 + Gt_z*theta_tz**2 + Gs_y*theta_sy**2 + Gt_xy*ut_y*theta_tx )\n",
    "\n",
    "# Blade stiffness potential energy (generic blade)\n",
    "E_pot_m = 0\n",
    "for i in range(n_m):\n",
    "    E_pot_m += sym.Rational(1, 2)*(omega[i]**2*m*((phi_x[i]**2+phi_y[i]**2)*dz)*qb[i]**2)\n",
    "\n",
    "# Centrifugal stiffening of the blade (generic blade)\n",
    "E_pot_c = sym.Rational(1, 2)* Omega**2 * sym.cos(cone)**2 * m_a * (sym.Matrix(r_b.diff(z)[:2]).T * sym.Matrix(r_b.diff(z)[:2]))[0] * dz\n",
    "\n",
    "# Blades gravitational potential energy  (generic blade)\n",
    "E_pot_g = (m * g * (-r_0[2]) * dz)\n",
    "E_pot_b = E_pot_m + E_pot_g # + E_pot_c\n",
    "del E_pot_m, E_pot_g\n",
    "\n",
    "# Blades potential energy (blades 0, 1 and 2)\n",
    "E_pot_b0 = E_pot_b.xreplace(dict_b0)\n",
    "E_pot_b1 = E_pot_b.xreplace(dict_b1)\n",
    "E_pot_b2 = E_pot_b.xreplace(dict_b2)\n",
    "\n",
    "# Total potential energy\n",
    "E_pot = E_pot_T + E_pot_b0 + E_pot_b1 + E_pot_b2\n",
    "E_pot = E_pot.doit().expand()\n",
    "\n",
    "# Integrating over the blade length\n",
    "E_pot = func_integrate_par(E_pot, dz, z, R)"
   ]
  },
  {
   "cell_type": "markdown",
   "metadata": {},
   "source": [
    "# Non-conservative forces\n",
    "\n",
    "The work from the aerodynamic forces on the blades is calculated using eq.(2.70). For the calculating the aerodynamic work it is convenient to describe both the blade position and blade forces on the blade frame of reference. The blade position equation $\\mathbf{r}\\left(z, t\\right)$ is smaller on the blade frame and the aerodynamic forces $\\mathbf{f}\\left(z, t\\right)$ are calculated on it.\n",
    "\n",
    "$$\n",
    "\\mathcal{W}^{\\left(nc\\right)} =\\sum_{b=0}^{n_b} \\int_{z_0}^{z_R} {}_{_4}\\mathbf{f}\\left(z, t\\right) \\cdot {}_{_4}\\mathbf{r}\\left(z, t\\right)  dz\n",
    "$$"
   ]
  },
  {
   "cell_type": "code",
   "execution_count": 39,
   "metadata": {},
   "outputs": [
    {
     "name": "stderr",
     "output_type": "stream",
     "text": [
      "[Parallel(n_jobs=2)]: Using backend LokyBackend with 2 concurrent workers.\n",
      "[Parallel(n_jobs=2)]: Done  45 out of  45 | elapsed:   11.8s finished\n"
     ]
    }
   ],
   "source": [
    "# Non-conservative work done by aerodynamic forces on the blade (generic blade)\n",
    "W_b = ((f_b.T * r_4)[0] * dz).doit().expand()\n",
    "\n",
    "# Non-conservative work done by aerodynamic forces on the blade (blades 0, 1 and 2)\n",
    "W_b0 = W_b.xreplace(dict_b0)\n",
    "W_b1 = W_b.xreplace(dict_b1)\n",
    "W_b2 = W_b.xreplace(dict_b2)\n",
    "\n",
    "# Total non-conservative work\n",
    "W = (W_b0 + W_b1 + W_b2).doit().expand()\n",
    "\n",
    "# Integrating over the blade length\n",
    "W = func_integrate_par(W, dz, z, R)"
   ]
  },
  {
   "cell_type": "markdown",
   "metadata": {},
   "source": [
    "### Gathering the similar integral terms on the E_kin, E_pot and W\n",
    "\n",
    "For different reasons, it is convenient to gather the integral terms in E_kin, E_pot and W.\n",
    "- The integrals are neither a function of time nor the q_j, thus they are not affected by the differentiation in the Lagrange equation.\n",
    "- The simplification algorithm does not work if an undefined integral is present in the equation, i.e. it is code bug.\n",
    "- The equations of kinetic energy, potential energy and non-conservative work contains similar integrals. In terms in code performance, it means that they can be gathered together and calculated only once. In a compiled code, usually good compilers check for similar computations automatically to improve the code performance and the programmer do not have to worry about it. On interpreted codes, this usually not the case. The integrals are organised in a set to eliminate duplicated items, then into a list to enumerate them and then into a dictionary so a symbol can be assigned to them. The dictionary is then used to replace the integrals on the E_kin, E_pot and W. When generating the numerical code, the integrals are calculated previously and then substituted into M, C, K and F."
   ]
  },
  {
   "cell_type": "code",
   "execution_count": 40,
   "metadata": {},
   "outputs": [],
   "source": [
    "# List of integrals in E_kin, E_pot and W\n",
    "i_set = E_kin.atoms(sym.Integral) | E_pot.atoms(sym.Integral) | W.atoms(sym.Integral)\n",
    "i_list = list(i_set)\n",
    "\n",
    "# Arrange the list of itegrals into a dictionary\n",
    "x_list = sym.symbols('xint[:%d]' %len(i_list))\n",
    "dict_xi = dict(zip(x_list, i_list))\n",
    "dict_ix = dict(zip(i_list, x_list))\n",
    "\n",
    "# Replace the integrals on E_kin, E_pot and W\n",
    "E_kin = E_kin.xreplace(dict_ix)\n",
    "E_pot = E_pot.xreplace(dict_ix)\n",
    "W = W.xreplace(dict_ix)"
   ]
  },
  {
   "cell_type": "markdown",
   "metadata": {},
   "source": [
    "# Lagrange equations\n",
    "\n",
    "In Lagrangian mechanics, the equations of motion of a system is derived by solving the Lagrange equations. It is worth mentioning that the constraints of the system may be set of extra equations using the Lagrange multipliers or by incorporating the constraints in the choice of the generalised coordinates, the second method is the one used in this work while the first is often employed in many cases without mentioning the distinction. The same results can be achieved by employing the Newtonian mechanics directly, applying Lagrangian mechanics is more laborious but also more systematic and thus often convenient with the aid of mathematical packages.\n",
    "\n",
    "$$\n",
    "\\mathbf{E}\\left[j\\right] = \\frac{d}{d t}\\left(\\frac{\\partial E_{kin}}{\\partial \\dot{q}_j}\\right) - \\frac{\\partial E_{kin}}{\\partial q_j} + \\frac{\\partial E_{pot}}{\\partial q_j} - \\frac{\\partial \\mathcal{W}^{\\left(nc\\right)}}{\\partial q_j}\n",
    "$$"
   ]
  },
  {
   "cell_type": "code",
   "execution_count": 41,
   "metadata": {},
   "outputs": [
    {
     "name": "stdout",
     "output_type": "stream",
     "text": [
      "[Parallel(n_jobs=2)]: Using backend LokyBackend with 2 concurrent workers.\n",
      "[Parallel(n_jobs=2)]: Done   1 tasks      | elapsed:    1.7s\n",
      "[Parallel(n_jobs=2)]: Done   2 tasks      | elapsed:    2.2s\n",
      "[Parallel(n_jobs=2)]: Done   3 tasks      | elapsed:    2.5s\n",
      "[Parallel(n_jobs=2)]: Done   4 tasks      | elapsed:    2.7s\n",
      "[Parallel(n_jobs=2)]: Done   5 tasks      | elapsed:    3.2s\n",
      "[Parallel(n_jobs=2)]: Done   6 tasks      | elapsed:    3.6s\n",
      "[Parallel(n_jobs=2)]: Done   7 tasks      | elapsed:    4.1s\n",
      "[Parallel(n_jobs=2)]: Done   8 tasks      | elapsed:    4.7s\n",
      "[Parallel(n_jobs=2)]: Done   9 tasks      | elapsed:    5.2s\n",
      "[Parallel(n_jobs=2)]: Done  10 tasks      | elapsed:    5.7s\n",
      "[Parallel(n_jobs=2)]: Done  11 out of  13 | elapsed:    6.3s remaining:    1.1s\n",
      "[Parallel(n_jobs=2)]: Done  13 out of  13 | elapsed:    7.3s remaining:    0.0s\n",
      "[Parallel(n_jobs=2)]: Done  13 out of  13 | elapsed:    7.3s finished\n"
     ]
    }
   ],
   "source": [
    "# Find the length of q\n",
    "for i_q in range(len(q)):\n",
    "    if (q[i_q]!=0):\n",
    "        len_q = i_q+1\n",
    "\n",
    "q = q[:len_q,:]\n",
    "q_dot = q_dot[:len_q,:]\n",
    "q_ddot = q_ddot[:len_q,:]\n",
    "\n",
    "E = sym.zeros(q.shape[0], q.shape[1])\n",
    "def func_lagrange(E, E_kin, E_pot, q, t, i):\n",
    "    q_dot = q.diff(t, 1)\n",
    "    t_1 = time.time()\n",
    "    #--\n",
    "    E = sym.diff(sym.diff(E_kin, q_dot[i]), t) - sym.diff(E_kin, q[i]) + sym.diff(E_pot, q[i]) - sym.diff(W, q[i])\n",
    "    E = E.doit().subs({theta_ddot: 0}).subs({theta_dot: Omega}).doit().expand(trig=True)\n",
    "    #--\n",
    "    t_2 = time.time()\n",
    "    file_log = open('file_log.txt', 'a')\n",
    "    print((i, ), end=' ', file=file_log)\n",
    "    print(t_2 - t_1, file=file_log)\n",
    "    file_log.close()\n",
    "    return (i, E)\n",
    "\n",
    "totos = Parallel(n_jobs=n_cores, verbose=51)(delayed(func_lagrange)(E[i], E_kin, E_pot, q, t, i) for i in reversed(range(len(q))) )\n",
    "\n",
    "for toto in totos:\n",
    "    E[toto[0]] = toto[1]\n",
    "del totos"
   ]
  },
  {
   "cell_type": "markdown",
   "metadata": {},
   "source": [
    "#### Assmptions (small deflections and small velocities)\n",
    "\n",
    "It is assumed the displacements, especially the angular displacements, are small so their trigonometric funcions can be simplified. However, in order to preserve the consistency in the equations, it is better to apply the simplifications after taking the derivatives on the Lagrange equation."
   ]
  },
  {
   "cell_type": "code",
   "execution_count": 42,
   "metadata": {},
   "outputs": [
    {
     "name": "stderr",
     "output_type": "stream",
     "text": [
      "[Parallel(n_jobs=2)]: Using backend LokyBackend with 2 concurrent workers.\n",
      "[Parallel(n_jobs=2)]: Done  10 out of  10 | elapsed:    5.4s finished\n",
      "[Parallel(n_jobs=2)]: Using backend LokyBackend with 2 concurrent workers.\n",
      "[Parallel(n_jobs=2)]: Done  10 out of  10 | elapsed:    5.1s finished\n",
      "[Parallel(n_jobs=2)]: Using backend LokyBackend with 2 concurrent workers.\n",
      "[Parallel(n_jobs=2)]: Done  10 out of  10 | elapsed:    4.9s finished\n",
      "[Parallel(n_jobs=2)]: Using backend LokyBackend with 2 concurrent workers.\n",
      "[Parallel(n_jobs=2)]: Done  10 out of  10 | elapsed:    4.9s finished\n",
      "[Parallel(n_jobs=2)]: Using backend LokyBackend with 2 concurrent workers.\n",
      "[Parallel(n_jobs=2)]: Done  11 out of  11 | elapsed:    6.1s finished\n",
      "[Parallel(n_jobs=2)]: Using backend LokyBackend with 2 concurrent workers.\n",
      "[Parallel(n_jobs=2)]: Done  11 out of  11 | elapsed:    6.5s finished\n",
      "[Parallel(n_jobs=2)]: Using backend LokyBackend with 2 concurrent workers.\n",
      "[Parallel(n_jobs=2)]: Done  11 out of  11 | elapsed:    6.6s finished\n",
      "[Parallel(n_jobs=2)]: Using backend LokyBackend with 2 concurrent workers.\n",
      "[Parallel(n_jobs=2)]: Done  11 out of  11 | elapsed:    6.3s finished\n",
      "[Parallel(n_jobs=2)]: Using backend LokyBackend with 2 concurrent workers.\n",
      "[Parallel(n_jobs=2)]: Done  11 out of  11 | elapsed:    6.4s finished\n",
      "[Parallel(n_jobs=2)]: Using backend LokyBackend with 2 concurrent workers.\n",
      "[Parallel(n_jobs=2)]: Done  11 out of  11 | elapsed:    6.3s finished\n",
      "[Parallel(n_jobs=2)]: Using backend LokyBackend with 2 concurrent workers.\n",
      "[Parallel(n_jobs=2)]: Done  11 out of  11 | elapsed:    6.2s finished\n",
      "[Parallel(n_jobs=2)]: Using backend LokyBackend with 2 concurrent workers.\n",
      "[Parallel(n_jobs=2)]: Done  11 out of  11 | elapsed:    5.9s finished\n",
      "[Parallel(n_jobs=2)]: Using backend LokyBackend with 2 concurrent workers.\n"
     ]
    },
    {
     "name": "stdout",
     "output_type": "stream",
     "text": [
      "79.07696390151978\n"
     ]
    },
    {
     "name": "stderr",
     "output_type": "stream",
     "text": [
      "[Parallel(n_jobs=2)]: Done  19 out of  19 | elapsed:    8.1s finished\n"
     ]
    }
   ],
   "source": [
    "t_1 = time.time()\n",
    "Ec = assumptions_madd(E, dict_small, dict_small_squared)\n",
    "t_2 = time.time()\n",
    "print(t_2-t_1)\n",
    "\n",
    "# Ec = E.copy()"
   ]
  },
  {
   "cell_type": "markdown",
   "metadata": {},
   "source": [
    "## Matrices\n",
    "\n",
    "It is convenient to rewrite the system of equations in terms of a inertia matrix $\\mathbf{M}$, a stiffness matrix $\\mathbf{K}$, a matrix $\\mathbf{C}$ proportional to $\\mathbf{\\dot{q}}$ and a force vector $\\mathbf{F}$ containing the remaining terms of the system of equations.\n",
    "\n",
    "$$\n",
    "\\mathbf{E} = \\mathbf{M}\\cdot\\mathbf{\\ddot{q}} + \\mathbf{C}\\cdot\\mathbf{\\dot{q}} + \\mathbf{K}\\cdot\\mathbf{q} - \\mathbf{F} = \\mathbf{0}\n",
    "$$\n",
    "\n",
    "This is achieved here using the symbolic module function \"Coefficient\" which identifies all terms proportional to the given variable. First the mass matrix is constructed selecting the terms of equatios $\\mathbf{E}$ that are linearly proportional to each of the terms in the array $\\mathbf{\\ddot{q}}$. The remaining terms are then used to construct $\\mathbf{C}$ and $\\mathbf{K}$ in a similar way. The remaining terms are then equal to $- \\mathbf{F}$.\n",
    "\n",
    "$$\n",
    "\\mathbf{M}[i,j] = \\text{Coefficient}(\\mathbf{E}[i],\\; \\ddot{q}[j])\n",
    "$$\n",
    "$$\n",
    "\\mathbf{C}[i,j] = \\text{Coefficient}(\\left(\\mathbf{E} - \\mathbf{M}\\cdot\\ddot{\\mathbf{q}}\\right)[i],\\; \\dot{q}[j])\n",
    "$$\n",
    "$$\n",
    "\\mathbf{K}[i,j] = \\text{Coefficient}(\\left(\\mathbf{E} - \\mathbf{M}\\cdot\\ddot{\\mathbf{q}} - \\mathbf{C}\\cdot\\dot{\\mathbf{q}}\\right)[i],\\; q[j])\n",
    "$$\n",
    "$$\n",
    "\\mathbf{F} = - \\left(\\mathbf{E} - \\mathbf{M}\\cdot\\ddot{\\mathbf{q}} - \\mathbf{C}\\cdot\\dot{\\mathbf{q}} - \\mathbf{K}\\cdot\\mathbf{q}\\right)\n",
    "$$"
   ]
  },
  {
   "cell_type": "code",
   "execution_count": 43,
   "metadata": {},
   "outputs": [
    {
     "name": "stdout",
     "output_type": "stream",
     "text": [
      "M_matrix\n"
     ]
    },
    {
     "name": "stderr",
     "output_type": "stream",
     "text": [
      "[Parallel(n_jobs=2)]: Using backend LokyBackend with 2 concurrent workers.\n",
      "[Parallel(n_jobs=2)]: Done  13 out of  13 | elapsed:    4.5s finished\n",
      "[Parallel(n_jobs=2)]: Using backend LokyBackend with 2 concurrent workers.\n"
     ]
    },
    {
     "name": "stdout",
     "output_type": "stream",
     "text": [
      "C_matrix\n"
     ]
    },
    {
     "name": "stderr",
     "output_type": "stream",
     "text": [
      "[Parallel(n_jobs=2)]: Done  13 out of  13 | elapsed:    3.9s finished\n",
      "[Parallel(n_jobs=2)]: Using backend LokyBackend with 2 concurrent workers.\n"
     ]
    },
    {
     "name": "stdout",
     "output_type": "stream",
     "text": [
      "K_matrix\n",
      "R_vector\n"
     ]
    },
    {
     "name": "stderr",
     "output_type": "stream",
     "text": [
      "[Parallel(n_jobs=2)]: Done  13 out of  13 | elapsed:    6.0s finished\n"
     ]
    }
   ],
   "source": [
    "print('M_matrix')\n",
    "M_mat = coeficient_matrix_par(Ec, q_ddot)\n",
    "\n",
    "print('C_matrix')\n",
    "C_mat = coeficient_matrix_par((Ec - M_mat*q_ddot).doit().expand(trig=True), q_dot)\n",
    "\n",
    "print('K_matrix')\n",
    "K_mat = coeficient_matrix_par((Ec - M_mat*q_ddot - C_mat*q_dot).doit().expand(trig=True), q)\n",
    "\n",
    "print('R_vector')\n",
    "R_vec = (Ec - M_mat*q_ddot - C_mat*q_dot - K_mat*q).doit().expand(trig=True)"
   ]
  },
  {
   "cell_type": "markdown",
   "metadata": {},
   "source": [
    "### Simplifying\n",
    "\n",
    "Simplifying large equations symbolically is very costly, the computational time depends on the number of possible combinations of its terms. Thus, if the equation can be separated into smaller parts that can be simplified separately, the computational time decreases significantly and it also oppens up the possibility for parallelising the simplification process."
   ]
  },
  {
   "cell_type": "code",
   "execution_count": 44,
   "metadata": {},
   "outputs": [
    {
     "name": "stdout",
     "output_type": "stream",
     "text": [
      "Simplifying\n"
     ]
    },
    {
     "name": "stderr",
     "output_type": "stream",
     "text": [
      "[Parallel(n_jobs=2)]: Using backend LokyBackend with 2 concurrent workers.\n",
      "[Parallel(n_jobs=2)]: Done 169 out of 169 | elapsed:    1.1s finished\n",
      "[Parallel(n_jobs=2)]: Using backend LokyBackend with 2 concurrent workers.\n",
      "[Parallel(n_jobs=2)]: Done 166 out of 169 | elapsed:    0.1s remaining:    0.0s\n",
      "[Parallel(n_jobs=2)]: Done 169 out of 169 | elapsed:    0.1s finished\n",
      "[Parallel(n_jobs=2)]: Using backend LokyBackend with 2 concurrent workers.\n",
      "[Parallel(n_jobs=2)]: Done 169 out of 169 | elapsed:    1.0s finished\n",
      "[Parallel(n_jobs=2)]: Using backend LokyBackend with 2 concurrent workers.\n",
      "[Parallel(n_jobs=2)]: Done  13 out of  13 | elapsed:    3.2s finished\n"
     ]
    }
   ],
   "source": [
    "print('Simplifying')\n",
    "M_mat = matrix_simplify(M_mat)\n",
    "C_mat = matrix_simplify(C_mat)\n",
    "K_mat = matrix_simplify(K_mat)\n",
    "R_vec = matrix_simplify(R_vec)"
   ]
  },
  {
   "cell_type": "markdown",
   "metadata": {},
   "source": [
    "### Substitute the integrals back for pretty printing"
   ]
  },
  {
   "cell_type": "code",
   "execution_count": 45,
   "metadata": {},
   "outputs": [],
   "source": [
    "M_i = M_mat.xreplace(dict_xi)\n",
    "C_i = C_mat.xreplace(dict_xi)\n",
    "K_i = K_mat.xreplace(dict_xi)\n",
    "R_i = R_vec.xreplace(dict_xi)"
   ]
  },
  {
   "cell_type": "markdown",
   "metadata": {},
   "source": [
    "### Mass matrix"
   ]
  },
  {
   "cell_type": "code",
   "execution_count": 46,
   "metadata": {},
   "outputs": [
    {
     "name": "stdout",
     "output_type": "stream",
     "text": [
      "M =\n"
     ]
    },
    {
     "data": {
      "text/latex": [
       "$\\displaystyle \\left[\\begin{array}{ccccccccccccc}\\int\\limits_{0}^{R} m{\\left(z \\right)} \\phi_{x[0,:]}^{2}{\\left(z \\right)}\\, dz + \\int\\limits_{0}^{R} m{\\left(z \\right)} \\phi_{y[0,:]}^{2}{\\left(z \\right)}\\, dz & 0 & 0 & 0 & 0 & 0 & 0 & 0 & 0 & 0 & 0 & 0 & \\int\\limits_{0}^{R} m{\\left(z \\right)} \\phi_{y[0,:]}{\\left(z \\right)}\\, dz\\\\0 & \\int\\limits_{0}^{R} m{\\left(z \\right)} \\phi_{x[1,:]}^{2}{\\left(z \\right)}\\, dz + \\int\\limits_{0}^{R} m{\\left(z \\right)} \\phi_{y[1,:]}^{2}{\\left(z \\right)}\\, dz & 0 & 0 & 0 & 0 & 0 & 0 & 0 & 0 & 0 & 0 & \\int\\limits_{0}^{R} m{\\left(z \\right)} \\phi_{y[1,:]}{\\left(z \\right)}\\, dz\\\\0 & 0 & \\int\\limits_{0}^{R} m{\\left(z \\right)} \\phi_{x[2,:]}^{2}{\\left(z \\right)}\\, dz + \\int\\limits_{0}^{R} m{\\left(z \\right)} \\phi_{y[2,:]}^{2}{\\left(z \\right)}\\, dz & 0 & 0 & 0 & 0 & 0 & 0 & 0 & 0 & 0 & \\int\\limits_{0}^{R} m{\\left(z \\right)} \\phi_{y[2,:]}{\\left(z \\right)}\\, dz\\\\0 & 0 & 0 & \\int\\limits_{0}^{R} m{\\left(z \\right)} \\phi_{x[3,:]}^{2}{\\left(z \\right)}\\, dz + \\int\\limits_{0}^{R} m{\\left(z \\right)} \\phi_{y[3,:]}^{2}{\\left(z \\right)}\\, dz & 0 & 0 & 0 & 0 & 0 & 0 & 0 & 0 & \\int\\limits_{0}^{R} m{\\left(z \\right)} \\phi_{y[3,:]}{\\left(z \\right)}\\, dz\\\\0 & 0 & 0 & 0 & \\int\\limits_{0}^{R} m{\\left(z \\right)} \\phi_{x[0,:]}^{2}{\\left(z \\right)}\\, dz + \\int\\limits_{0}^{R} m{\\left(z \\right)} \\phi_{y[0,:]}^{2}{\\left(z \\right)}\\, dz & 0 & 0 & 0 & 0 & 0 & 0 & 0 & \\int\\limits_{0}^{R} m{\\left(z \\right)} \\phi_{y[0,:]}{\\left(z \\right)}\\, dz\\\\0 & 0 & 0 & 0 & 0 & \\int\\limits_{0}^{R} m{\\left(z \\right)} \\phi_{x[1,:]}^{2}{\\left(z \\right)}\\, dz + \\int\\limits_{0}^{R} m{\\left(z \\right)} \\phi_{y[1,:]}^{2}{\\left(z \\right)}\\, dz & 0 & 0 & 0 & 0 & 0 & 0 & \\int\\limits_{0}^{R} m{\\left(z \\right)} \\phi_{y[1,:]}{\\left(z \\right)}\\, dz\\\\0 & 0 & 0 & 0 & 0 & 0 & \\int\\limits_{0}^{R} m{\\left(z \\right)} \\phi_{x[2,:]}^{2}{\\left(z \\right)}\\, dz + \\int\\limits_{0}^{R} m{\\left(z \\right)} \\phi_{y[2,:]}^{2}{\\left(z \\right)}\\, dz & 0 & 0 & 0 & 0 & 0 & \\int\\limits_{0}^{R} m{\\left(z \\right)} \\phi_{y[2,:]}{\\left(z \\right)}\\, dz\\\\0 & 0 & 0 & 0 & 0 & 0 & 0 & \\int\\limits_{0}^{R} m{\\left(z \\right)} \\phi_{x[3,:]}^{2}{\\left(z \\right)}\\, dz + \\int\\limits_{0}^{R} m{\\left(z \\right)} \\phi_{y[3,:]}^{2}{\\left(z \\right)}\\, dz & 0 & 0 & 0 & 0 & \\int\\limits_{0}^{R} m{\\left(z \\right)} \\phi_{y[3,:]}{\\left(z \\right)}\\, dz\\\\0 & 0 & 0 & 0 & 0 & 0 & 0 & 0 & \\int\\limits_{0}^{R} m{\\left(z \\right)} \\phi_{x[0,:]}^{2}{\\left(z \\right)}\\, dz + \\int\\limits_{0}^{R} m{\\left(z \\right)} \\phi_{y[0,:]}^{2}{\\left(z \\right)}\\, dz & 0 & 0 & 0 & \\int\\limits_{0}^{R} m{\\left(z \\right)} \\phi_{y[0,:]}{\\left(z \\right)}\\, dz\\\\0 & 0 & 0 & 0 & 0 & 0 & 0 & 0 & 0 & \\int\\limits_{0}^{R} m{\\left(z \\right)} \\phi_{x[1,:]}^{2}{\\left(z \\right)}\\, dz + \\int\\limits_{0}^{R} m{\\left(z \\right)} \\phi_{y[1,:]}^{2}{\\left(z \\right)}\\, dz & 0 & 0 & \\int\\limits_{0}^{R} m{\\left(z \\right)} \\phi_{y[1,:]}{\\left(z \\right)}\\, dz\\\\0 & 0 & 0 & 0 & 0 & 0 & 0 & 0 & 0 & 0 & \\int\\limits_{0}^{R} m{\\left(z \\right)} \\phi_{x[2,:]}^{2}{\\left(z \\right)}\\, dz + \\int\\limits_{0}^{R} m{\\left(z \\right)} \\phi_{y[2,:]}^{2}{\\left(z \\right)}\\, dz & 0 & \\int\\limits_{0}^{R} m{\\left(z \\right)} \\phi_{y[2,:]}{\\left(z \\right)}\\, dz\\\\0 & 0 & 0 & 0 & 0 & 0 & 0 & 0 & 0 & 0 & 0 & \\int\\limits_{0}^{R} m{\\left(z \\right)} \\phi_{x[3,:]}^{2}{\\left(z \\right)}\\, dz + \\int\\limits_{0}^{R} m{\\left(z \\right)} \\phi_{y[3,:]}^{2}{\\left(z \\right)}\\, dz & \\int\\limits_{0}^{R} m{\\left(z \\right)} \\phi_{y[3,:]}{\\left(z \\right)}\\, dz\\\\\\int\\limits_{0}^{R} m{\\left(z \\right)} \\phi_{y[0,:]}{\\left(z \\right)}\\, dz & \\int\\limits_{0}^{R} m{\\left(z \\right)} \\phi_{y[1,:]}{\\left(z \\right)}\\, dz & \\int\\limits_{0}^{R} m{\\left(z \\right)} \\phi_{y[2,:]}{\\left(z \\right)}\\, dz & \\int\\limits_{0}^{R} m{\\left(z \\right)} \\phi_{y[3,:]}{\\left(z \\right)}\\, dz & \\int\\limits_{0}^{R} m{\\left(z \\right)} \\phi_{y[0,:]}{\\left(z \\right)}\\, dz & \\int\\limits_{0}^{R} m{\\left(z \\right)} \\phi_{y[1,:]}{\\left(z \\right)}\\, dz & \\int\\limits_{0}^{R} m{\\left(z \\right)} \\phi_{y[2,:]}{\\left(z \\right)}\\, dz & \\int\\limits_{0}^{R} m{\\left(z \\right)} \\phi_{y[3,:]}{\\left(z \\right)}\\, dz & \\int\\limits_{0}^{R} m{\\left(z \\right)} \\phi_{y[0,:]}{\\left(z \\right)}\\, dz & \\int\\limits_{0}^{R} m{\\left(z \\right)} \\phi_{y[1,:]}{\\left(z \\right)}\\, dz & \\int\\limits_{0}^{R} m{\\left(z \\right)} \\phi_{y[2,:]}{\\left(z \\right)}\\, dz & \\int\\limits_{0}^{R} m{\\left(z \\right)} \\phi_{y[3,:]}{\\left(z \\right)}\\, dz & m_{h} + m_{n} + 3 \\int\\limits_{0}^{R} m{\\left(z \\right)}\\, dz\\end{array}\\right]$"
      ],
      "text/plain": [
       "Matrix([\n",
       "[Integral(m(z)*phi_x[0,:](z)**2, (z, 0, R)) + Integral(m(z)*phi_y[0,:](z)**2, (z, 0, R)),                                                                                       0,                                                                                       0,                                                                                       0,                                                                                       0,                                                                                       0,                                                                                       0,                                                                                       0,                                                                                       0,                                                                                       0,                                                                                       0,                                                                                       0, Integral(m(z)*phi_y[0,:](z), (z, 0, R))],\n",
       "[                                                                                      0, Integral(m(z)*phi_x[1,:](z)**2, (z, 0, R)) + Integral(m(z)*phi_y[1,:](z)**2, (z, 0, R)),                                                                                       0,                                                                                       0,                                                                                       0,                                                                                       0,                                                                                       0,                                                                                       0,                                                                                       0,                                                                                       0,                                                                                       0,                                                                                       0, Integral(m(z)*phi_y[1,:](z), (z, 0, R))],\n",
       "[                                                                                      0,                                                                                       0, Integral(m(z)*phi_x[2,:](z)**2, (z, 0, R)) + Integral(m(z)*phi_y[2,:](z)**2, (z, 0, R)),                                                                                       0,                                                                                       0,                                                                                       0,                                                                                       0,                                                                                       0,                                                                                       0,                                                                                       0,                                                                                       0,                                                                                       0, Integral(m(z)*phi_y[2,:](z), (z, 0, R))],\n",
       "[                                                                                      0,                                                                                       0,                                                                                       0, Integral(m(z)*phi_x[3,:](z)**2, (z, 0, R)) + Integral(m(z)*phi_y[3,:](z)**2, (z, 0, R)),                                                                                       0,                                                                                       0,                                                                                       0,                                                                                       0,                                                                                       0,                                                                                       0,                                                                                       0,                                                                                       0, Integral(m(z)*phi_y[3,:](z), (z, 0, R))],\n",
       "[                                                                                      0,                                                                                       0,                                                                                       0,                                                                                       0, Integral(m(z)*phi_x[0,:](z)**2, (z, 0, R)) + Integral(m(z)*phi_y[0,:](z)**2, (z, 0, R)),                                                                                       0,                                                                                       0,                                                                                       0,                                                                                       0,                                                                                       0,                                                                                       0,                                                                                       0, Integral(m(z)*phi_y[0,:](z), (z, 0, R))],\n",
       "[                                                                                      0,                                                                                       0,                                                                                       0,                                                                                       0,                                                                                       0, Integral(m(z)*phi_x[1,:](z)**2, (z, 0, R)) + Integral(m(z)*phi_y[1,:](z)**2, (z, 0, R)),                                                                                       0,                                                                                       0,                                                                                       0,                                                                                       0,                                                                                       0,                                                                                       0, Integral(m(z)*phi_y[1,:](z), (z, 0, R))],\n",
       "[                                                                                      0,                                                                                       0,                                                                                       0,                                                                                       0,                                                                                       0,                                                                                       0, Integral(m(z)*phi_x[2,:](z)**2, (z, 0, R)) + Integral(m(z)*phi_y[2,:](z)**2, (z, 0, R)),                                                                                       0,                                                                                       0,                                                                                       0,                                                                                       0,                                                                                       0, Integral(m(z)*phi_y[2,:](z), (z, 0, R))],\n",
       "[                                                                                      0,                                                                                       0,                                                                                       0,                                                                                       0,                                                                                       0,                                                                                       0,                                                                                       0, Integral(m(z)*phi_x[3,:](z)**2, (z, 0, R)) + Integral(m(z)*phi_y[3,:](z)**2, (z, 0, R)),                                                                                       0,                                                                                       0,                                                                                       0,                                                                                       0, Integral(m(z)*phi_y[3,:](z), (z, 0, R))],\n",
       "[                                                                                      0,                                                                                       0,                                                                                       0,                                                                                       0,                                                                                       0,                                                                                       0,                                                                                       0,                                                                                       0, Integral(m(z)*phi_x[0,:](z)**2, (z, 0, R)) + Integral(m(z)*phi_y[0,:](z)**2, (z, 0, R)),                                                                                       0,                                                                                       0,                                                                                       0, Integral(m(z)*phi_y[0,:](z), (z, 0, R))],\n",
       "[                                                                                      0,                                                                                       0,                                                                                       0,                                                                                       0,                                                                                       0,                                                                                       0,                                                                                       0,                                                                                       0,                                                                                       0, Integral(m(z)*phi_x[1,:](z)**2, (z, 0, R)) + Integral(m(z)*phi_y[1,:](z)**2, (z, 0, R)),                                                                                       0,                                                                                       0, Integral(m(z)*phi_y[1,:](z), (z, 0, R))],\n",
       "[                                                                                      0,                                                                                       0,                                                                                       0,                                                                                       0,                                                                                       0,                                                                                       0,                                                                                       0,                                                                                       0,                                                                                       0,                                                                                       0, Integral(m(z)*phi_x[2,:](z)**2, (z, 0, R)) + Integral(m(z)*phi_y[2,:](z)**2, (z, 0, R)),                                                                                       0, Integral(m(z)*phi_y[2,:](z), (z, 0, R))],\n",
       "[                                                                                      0,                                                                                       0,                                                                                       0,                                                                                       0,                                                                                       0,                                                                                       0,                                                                                       0,                                                                                       0,                                                                                       0,                                                                                       0,                                                                                       0, Integral(m(z)*phi_x[3,:](z)**2, (z, 0, R)) + Integral(m(z)*phi_y[3,:](z)**2, (z, 0, R)), Integral(m(z)*phi_y[3,:](z), (z, 0, R))],\n",
       "[                                                Integral(m(z)*phi_y[0,:](z), (z, 0, R)),                                                 Integral(m(z)*phi_y[1,:](z), (z, 0, R)),                                                 Integral(m(z)*phi_y[2,:](z), (z, 0, R)),                                                 Integral(m(z)*phi_y[3,:](z), (z, 0, R)),                                                 Integral(m(z)*phi_y[0,:](z), (z, 0, R)),                                                 Integral(m(z)*phi_y[1,:](z), (z, 0, R)),                                                 Integral(m(z)*phi_y[2,:](z), (z, 0, R)),                                                 Integral(m(z)*phi_y[3,:](z), (z, 0, R)),                                                 Integral(m(z)*phi_y[0,:](z), (z, 0, R)),                                                 Integral(m(z)*phi_y[1,:](z), (z, 0, R)),                                                 Integral(m(z)*phi_y[2,:](z), (z, 0, R)),                                                 Integral(m(z)*phi_y[3,:](z), (z, 0, R)), m_h + m_n + 3*Integral(m(z), (z, 0, R))]])"
      ]
     },
     "metadata": {},
     "output_type": "display_data"
    }
   ],
   "source": [
    "print('M ='); display(M_i)"
   ]
  },
  {
   "cell_type": "markdown",
   "metadata": {},
   "source": [
    "### C matrix"
   ]
  },
  {
   "cell_type": "code",
   "execution_count": 47,
   "metadata": {},
   "outputs": [
    {
     "name": "stdout",
     "output_type": "stream",
     "text": [
      "C =\n"
     ]
    },
    {
     "data": {
      "text/latex": [
       "$\\displaystyle \\left[\\begin{array}{ccccccccccccc}0 & 0 & 0 & 0 & 0 & 0 & 0 & 0 & 0 & 0 & 0 & 0 & 0\\\\0 & 0 & 0 & 0 & 0 & 0 & 0 & 0 & 0 & 0 & 0 & 0 & 0\\\\0 & 0 & 0 & 0 & 0 & 0 & 0 & 0 & 0 & 0 & 0 & 0 & 0\\\\0 & 0 & 0 & 0 & 0 & 0 & 0 & 0 & 0 & 0 & 0 & 0 & 0\\\\0 & 0 & 0 & 0 & 0 & 0 & 0 & 0 & 0 & 0 & 0 & 0 & 0\\\\0 & 0 & 0 & 0 & 0 & 0 & 0 & 0 & 0 & 0 & 0 & 0 & 0\\\\0 & 0 & 0 & 0 & 0 & 0 & 0 & 0 & 0 & 0 & 0 & 0 & 0\\\\0 & 0 & 0 & 0 & 0 & 0 & 0 & 0 & 0 & 0 & 0 & 0 & 0\\\\0 & 0 & 0 & 0 & 0 & 0 & 0 & 0 & 0 & 0 & 0 & 0 & 0\\\\0 & 0 & 0 & 0 & 0 & 0 & 0 & 0 & 0 & 0 & 0 & 0 & 0\\\\0 & 0 & 0 & 0 & 0 & 0 & 0 & 0 & 0 & 0 & 0 & 0 & 0\\\\0 & 0 & 0 & 0 & 0 & 0 & 0 & 0 & 0 & 0 & 0 & 0 & 0\\\\0 & 0 & 0 & 0 & 0 & 0 & 0 & 0 & 0 & 0 & 0 & 0 & 0\\end{array}\\right]$"
      ],
      "text/plain": [
       "Matrix([\n",
       "[0, 0, 0, 0, 0, 0, 0, 0, 0, 0, 0, 0, 0],\n",
       "[0, 0, 0, 0, 0, 0, 0, 0, 0, 0, 0, 0, 0],\n",
       "[0, 0, 0, 0, 0, 0, 0, 0, 0, 0, 0, 0, 0],\n",
       "[0, 0, 0, 0, 0, 0, 0, 0, 0, 0, 0, 0, 0],\n",
       "[0, 0, 0, 0, 0, 0, 0, 0, 0, 0, 0, 0, 0],\n",
       "[0, 0, 0, 0, 0, 0, 0, 0, 0, 0, 0, 0, 0],\n",
       "[0, 0, 0, 0, 0, 0, 0, 0, 0, 0, 0, 0, 0],\n",
       "[0, 0, 0, 0, 0, 0, 0, 0, 0, 0, 0, 0, 0],\n",
       "[0, 0, 0, 0, 0, 0, 0, 0, 0, 0, 0, 0, 0],\n",
       "[0, 0, 0, 0, 0, 0, 0, 0, 0, 0, 0, 0, 0],\n",
       "[0, 0, 0, 0, 0, 0, 0, 0, 0, 0, 0, 0, 0],\n",
       "[0, 0, 0, 0, 0, 0, 0, 0, 0, 0, 0, 0, 0],\n",
       "[0, 0, 0, 0, 0, 0, 0, 0, 0, 0, 0, 0, 0]])"
      ]
     },
     "metadata": {},
     "output_type": "display_data"
    }
   ],
   "source": [
    "print('C ='); display(C_i)"
   ]
  },
  {
   "cell_type": "markdown",
   "metadata": {},
   "source": [
    "### Stiffness matrix"
   ]
  },
  {
   "cell_type": "code",
   "execution_count": 48,
   "metadata": {},
   "outputs": [
    {
     "name": "stdout",
     "output_type": "stream",
     "text": [
      "K =\n"
     ]
    },
    {
     "data": {
      "text/latex": [
       "$\\displaystyle \\left[\\begin{array}{ccccccccccccc}\\omega_{0}^{2} \\int\\limits_{0}^{R} m{\\left(z \\right)} \\phi_{x[0,:]}^{2}{\\left(z \\right)}\\, dz + \\omega_{0}^{2} \\int\\limits_{0}^{R} m{\\left(z \\right)} \\phi_{y[0,:]}^{2}{\\left(z \\right)}\\, dz - \\Omega^{2}{\\left(t \\right)} \\int\\limits_{0}^{R} m{\\left(z \\right)} \\phi_{x[0,:]}^{2}{\\left(z \\right)}\\, dz & 0 & 0 & 0 & 0 & 0 & 0 & 0 & 0 & 0 & 0 & 0 & 0\\\\0 & \\omega_{1}^{2} \\int\\limits_{0}^{R} m{\\left(z \\right)} \\phi_{x[1,:]}^{2}{\\left(z \\right)}\\, dz + \\omega_{1}^{2} \\int\\limits_{0}^{R} m{\\left(z \\right)} \\phi_{y[1,:]}^{2}{\\left(z \\right)}\\, dz - \\Omega^{2}{\\left(t \\right)} \\int\\limits_{0}^{R} m{\\left(z \\right)} \\phi_{x[1,:]}^{2}{\\left(z \\right)}\\, dz & 0 & 0 & 0 & 0 & 0 & 0 & 0 & 0 & 0 & 0 & 0\\\\0 & 0 & \\omega_{2}^{2} \\int\\limits_{0}^{R} m{\\left(z \\right)} \\phi_{x[2,:]}^{2}{\\left(z \\right)}\\, dz + \\omega_{2}^{2} \\int\\limits_{0}^{R} m{\\left(z \\right)} \\phi_{y[2,:]}^{2}{\\left(z \\right)}\\, dz - \\Omega^{2}{\\left(t \\right)} \\int\\limits_{0}^{R} m{\\left(z \\right)} \\phi_{x[2,:]}^{2}{\\left(z \\right)}\\, dz & 0 & 0 & 0 & 0 & 0 & 0 & 0 & 0 & 0 & 0\\\\0 & 0 & 0 & \\omega_{3}^{2} \\int\\limits_{0}^{R} m{\\left(z \\right)} \\phi_{x[3,:]}^{2}{\\left(z \\right)}\\, dz + \\omega_{3}^{2} \\int\\limits_{0}^{R} m{\\left(z \\right)} \\phi_{y[3,:]}^{2}{\\left(z \\right)}\\, dz - \\Omega^{2}{\\left(t \\right)} \\int\\limits_{0}^{R} m{\\left(z \\right)} \\phi_{x[3,:]}^{2}{\\left(z \\right)}\\, dz & 0 & 0 & 0 & 0 & 0 & 0 & 0 & 0 & 0\\\\0 & 0 & 0 & 0 & \\omega_{0}^{2} \\int\\limits_{0}^{R} m{\\left(z \\right)} \\phi_{x[0,:]}^{2}{\\left(z \\right)}\\, dz + \\omega_{0}^{2} \\int\\limits_{0}^{R} m{\\left(z \\right)} \\phi_{y[0,:]}^{2}{\\left(z \\right)}\\, dz - \\Omega^{2}{\\left(t \\right)} \\int\\limits_{0}^{R} m{\\left(z \\right)} \\phi_{x[0,:]}^{2}{\\left(z \\right)}\\, dz & 0 & 0 & 0 & 0 & 0 & 0 & 0 & 0\\\\0 & 0 & 0 & 0 & 0 & \\omega_{1}^{2} \\int\\limits_{0}^{R} m{\\left(z \\right)} \\phi_{x[1,:]}^{2}{\\left(z \\right)}\\, dz + \\omega_{1}^{2} \\int\\limits_{0}^{R} m{\\left(z \\right)} \\phi_{y[1,:]}^{2}{\\left(z \\right)}\\, dz - \\Omega^{2}{\\left(t \\right)} \\int\\limits_{0}^{R} m{\\left(z \\right)} \\phi_{x[1,:]}^{2}{\\left(z \\right)}\\, dz & 0 & 0 & 0 & 0 & 0 & 0 & 0\\\\0 & 0 & 0 & 0 & 0 & 0 & \\omega_{2}^{2} \\int\\limits_{0}^{R} m{\\left(z \\right)} \\phi_{x[2,:]}^{2}{\\left(z \\right)}\\, dz + \\omega_{2}^{2} \\int\\limits_{0}^{R} m{\\left(z \\right)} \\phi_{y[2,:]}^{2}{\\left(z \\right)}\\, dz - \\Omega^{2}{\\left(t \\right)} \\int\\limits_{0}^{R} m{\\left(z \\right)} \\phi_{x[2,:]}^{2}{\\left(z \\right)}\\, dz & 0 & 0 & 0 & 0 & 0 & 0\\\\0 & 0 & 0 & 0 & 0 & 0 & 0 & \\omega_{3}^{2} \\int\\limits_{0}^{R} m{\\left(z \\right)} \\phi_{x[3,:]}^{2}{\\left(z \\right)}\\, dz + \\omega_{3}^{2} \\int\\limits_{0}^{R} m{\\left(z \\right)} \\phi_{y[3,:]}^{2}{\\left(z \\right)}\\, dz - \\Omega^{2}{\\left(t \\right)} \\int\\limits_{0}^{R} m{\\left(z \\right)} \\phi_{x[3,:]}^{2}{\\left(z \\right)}\\, dz & 0 & 0 & 0 & 0 & 0\\\\0 & 0 & 0 & 0 & 0 & 0 & 0 & 0 & \\omega_{0}^{2} \\int\\limits_{0}^{R} m{\\left(z \\right)} \\phi_{x[0,:]}^{2}{\\left(z \\right)}\\, dz + \\omega_{0}^{2} \\int\\limits_{0}^{R} m{\\left(z \\right)} \\phi_{y[0,:]}^{2}{\\left(z \\right)}\\, dz - \\Omega^{2}{\\left(t \\right)} \\int\\limits_{0}^{R} m{\\left(z \\right)} \\phi_{x[0,:]}^{2}{\\left(z \\right)}\\, dz & 0 & 0 & 0 & 0\\\\0 & 0 & 0 & 0 & 0 & 0 & 0 & 0 & 0 & \\omega_{1}^{2} \\int\\limits_{0}^{R} m{\\left(z \\right)} \\phi_{x[1,:]}^{2}{\\left(z \\right)}\\, dz + \\omega_{1}^{2} \\int\\limits_{0}^{R} m{\\left(z \\right)} \\phi_{y[1,:]}^{2}{\\left(z \\right)}\\, dz - \\Omega^{2}{\\left(t \\right)} \\int\\limits_{0}^{R} m{\\left(z \\right)} \\phi_{x[1,:]}^{2}{\\left(z \\right)}\\, dz & 0 & 0 & 0\\\\0 & 0 & 0 & 0 & 0 & 0 & 0 & 0 & 0 & 0 & \\omega_{2}^{2} \\int\\limits_{0}^{R} m{\\left(z \\right)} \\phi_{x[2,:]}^{2}{\\left(z \\right)}\\, dz + \\omega_{2}^{2} \\int\\limits_{0}^{R} m{\\left(z \\right)} \\phi_{y[2,:]}^{2}{\\left(z \\right)}\\, dz - \\Omega^{2}{\\left(t \\right)} \\int\\limits_{0}^{R} m{\\left(z \\right)} \\phi_{x[2,:]}^{2}{\\left(z \\right)}\\, dz & 0 & 0\\\\0 & 0 & 0 & 0 & 0 & 0 & 0 & 0 & 0 & 0 & 0 & \\omega_{3}^{2} \\int\\limits_{0}^{R} m{\\left(z \\right)} \\phi_{x[3,:]}^{2}{\\left(z \\right)}\\, dz + \\omega_{3}^{2} \\int\\limits_{0}^{R} m{\\left(z \\right)} \\phi_{y[3,:]}^{2}{\\left(z \\right)}\\, dz - \\Omega^{2}{\\left(t \\right)} \\int\\limits_{0}^{R} m{\\left(z \\right)} \\phi_{x[3,:]}^{2}{\\left(z \\right)}\\, dz & 0\\\\0 & 0 & 0 & 0 & 0 & 0 & 0 & 0 & 0 & 0 & 0 & 0 & k_{y}\\end{array}\\right]$"
      ],
      "text/plain": [
       "Matrix([\n",
       "[omega_0**2*Integral(m(z)*phi_x[0,:](z)**2, (z, 0, R)) + omega_0**2*Integral(m(z)*phi_y[0,:](z)**2, (z, 0, R)) - Omega(t)**2*Integral(m(z)*phi_x[0,:](z)**2, (z, 0, R)),                                                                                                                                                                      0,                                                                                                                                                                      0,                                                                                                                                                                      0,                                                                                                                                                                      0,                                                                                                                                                                      0,                                                                                                                                                                      0,                                                                                                                                                                      0,                                                                                                                                                                      0,                                                                                                                                                                      0,                                                                                                                                                                      0,                                                                                                                                                                      0,   0],\n",
       "[                                                                                                                                                                     0, omega_1**2*Integral(m(z)*phi_x[1,:](z)**2, (z, 0, R)) + omega_1**2*Integral(m(z)*phi_y[1,:](z)**2, (z, 0, R)) - Omega(t)**2*Integral(m(z)*phi_x[1,:](z)**2, (z, 0, R)),                                                                                                                                                                      0,                                                                                                                                                                      0,                                                                                                                                                                      0,                                                                                                                                                                      0,                                                                                                                                                                      0,                                                                                                                                                                      0,                                                                                                                                                                      0,                                                                                                                                                                      0,                                                                                                                                                                      0,                                                                                                                                                                      0,   0],\n",
       "[                                                                                                                                                                     0,                                                                                                                                                                      0, omega_2**2*Integral(m(z)*phi_x[2,:](z)**2, (z, 0, R)) + omega_2**2*Integral(m(z)*phi_y[2,:](z)**2, (z, 0, R)) - Omega(t)**2*Integral(m(z)*phi_x[2,:](z)**2, (z, 0, R)),                                                                                                                                                                      0,                                                                                                                                                                      0,                                                                                                                                                                      0,                                                                                                                                                                      0,                                                                                                                                                                      0,                                                                                                                                                                      0,                                                                                                                                                                      0,                                                                                                                                                                      0,                                                                                                                                                                      0,   0],\n",
       "[                                                                                                                                                                     0,                                                                                                                                                                      0,                                                                                                                                                                      0, omega_3**2*Integral(m(z)*phi_x[3,:](z)**2, (z, 0, R)) + omega_3**2*Integral(m(z)*phi_y[3,:](z)**2, (z, 0, R)) - Omega(t)**2*Integral(m(z)*phi_x[3,:](z)**2, (z, 0, R)),                                                                                                                                                                      0,                                                                                                                                                                      0,                                                                                                                                                                      0,                                                                                                                                                                      0,                                                                                                                                                                      0,                                                                                                                                                                      0,                                                                                                                                                                      0,                                                                                                                                                                      0,   0],\n",
       "[                                                                                                                                                                     0,                                                                                                                                                                      0,                                                                                                                                                                      0,                                                                                                                                                                      0, omega_0**2*Integral(m(z)*phi_x[0,:](z)**2, (z, 0, R)) + omega_0**2*Integral(m(z)*phi_y[0,:](z)**2, (z, 0, R)) - Omega(t)**2*Integral(m(z)*phi_x[0,:](z)**2, (z, 0, R)),                                                                                                                                                                      0,                                                                                                                                                                      0,                                                                                                                                                                      0,                                                                                                                                                                      0,                                                                                                                                                                      0,                                                                                                                                                                      0,                                                                                                                                                                      0,   0],\n",
       "[                                                                                                                                                                     0,                                                                                                                                                                      0,                                                                                                                                                                      0,                                                                                                                                                                      0,                                                                                                                                                                      0, omega_1**2*Integral(m(z)*phi_x[1,:](z)**2, (z, 0, R)) + omega_1**2*Integral(m(z)*phi_y[1,:](z)**2, (z, 0, R)) - Omega(t)**2*Integral(m(z)*phi_x[1,:](z)**2, (z, 0, R)),                                                                                                                                                                      0,                                                                                                                                                                      0,                                                                                                                                                                      0,                                                                                                                                                                      0,                                                                                                                                                                      0,                                                                                                                                                                      0,   0],\n",
       "[                                                                                                                                                                     0,                                                                                                                                                                      0,                                                                                                                                                                      0,                                                                                                                                                                      0,                                                                                                                                                                      0,                                                                                                                                                                      0, omega_2**2*Integral(m(z)*phi_x[2,:](z)**2, (z, 0, R)) + omega_2**2*Integral(m(z)*phi_y[2,:](z)**2, (z, 0, R)) - Omega(t)**2*Integral(m(z)*phi_x[2,:](z)**2, (z, 0, R)),                                                                                                                                                                      0,                                                                                                                                                                      0,                                                                                                                                                                      0,                                                                                                                                                                      0,                                                                                                                                                                      0,   0],\n",
       "[                                                                                                                                                                     0,                                                                                                                                                                      0,                                                                                                                                                                      0,                                                                                                                                                                      0,                                                                                                                                                                      0,                                                                                                                                                                      0,                                                                                                                                                                      0, omega_3**2*Integral(m(z)*phi_x[3,:](z)**2, (z, 0, R)) + omega_3**2*Integral(m(z)*phi_y[3,:](z)**2, (z, 0, R)) - Omega(t)**2*Integral(m(z)*phi_x[3,:](z)**2, (z, 0, R)),                                                                                                                                                                      0,                                                                                                                                                                      0,                                                                                                                                                                      0,                                                                                                                                                                      0,   0],\n",
       "[                                                                                                                                                                     0,                                                                                                                                                                      0,                                                                                                                                                                      0,                                                                                                                                                                      0,                                                                                                                                                                      0,                                                                                                                                                                      0,                                                                                                                                                                      0,                                                                                                                                                                      0, omega_0**2*Integral(m(z)*phi_x[0,:](z)**2, (z, 0, R)) + omega_0**2*Integral(m(z)*phi_y[0,:](z)**2, (z, 0, R)) - Omega(t)**2*Integral(m(z)*phi_x[0,:](z)**2, (z, 0, R)),                                                                                                                                                                      0,                                                                                                                                                                      0,                                                                                                                                                                      0,   0],\n",
       "[                                                                                                                                                                     0,                                                                                                                                                                      0,                                                                                                                                                                      0,                                                                                                                                                                      0,                                                                                                                                                                      0,                                                                                                                                                                      0,                                                                                                                                                                      0,                                                                                                                                                                      0,                                                                                                                                                                      0, omega_1**2*Integral(m(z)*phi_x[1,:](z)**2, (z, 0, R)) + omega_1**2*Integral(m(z)*phi_y[1,:](z)**2, (z, 0, R)) - Omega(t)**2*Integral(m(z)*phi_x[1,:](z)**2, (z, 0, R)),                                                                                                                                                                      0,                                                                                                                                                                      0,   0],\n",
       "[                                                                                                                                                                     0,                                                                                                                                                                      0,                                                                                                                                                                      0,                                                                                                                                                                      0,                                                                                                                                                                      0,                                                                                                                                                                      0,                                                                                                                                                                      0,                                                                                                                                                                      0,                                                                                                                                                                      0,                                                                                                                                                                      0, omega_2**2*Integral(m(z)*phi_x[2,:](z)**2, (z, 0, R)) + omega_2**2*Integral(m(z)*phi_y[2,:](z)**2, (z, 0, R)) - Omega(t)**2*Integral(m(z)*phi_x[2,:](z)**2, (z, 0, R)),                                                                                                                                                                      0,   0],\n",
       "[                                                                                                                                                                     0,                                                                                                                                                                      0,                                                                                                                                                                      0,                                                                                                                                                                      0,                                                                                                                                                                      0,                                                                                                                                                                      0,                                                                                                                                                                      0,                                                                                                                                                                      0,                                                                                                                                                                      0,                                                                                                                                                                      0,                                                                                                                                                                      0, omega_3**2*Integral(m(z)*phi_x[3,:](z)**2, (z, 0, R)) + omega_3**2*Integral(m(z)*phi_y[3,:](z)**2, (z, 0, R)) - Omega(t)**2*Integral(m(z)*phi_x[3,:](z)**2, (z, 0, R)),   0],\n",
       "[                                                                                                                                                                     0,                                                                                                                                                                      0,                                                                                                                                                                      0,                                                                                                                                                                      0,                                                                                                                                                                      0,                                                                                                                                                                      0,                                                                                                                                                                      0,                                                                                                                                                                      0,                                                                                                                                                                      0,                                                                                                                                                                      0,                                                                                                                                                                      0,                                                                                                                                                                      0, k_y]])"
      ]
     },
     "metadata": {},
     "output_type": "display_data"
    }
   ],
   "source": [
    "print('K ='); display(K_i)"
   ]
  },
  {
   "cell_type": "markdown",
   "metadata": {},
   "source": [
    "### Forcing vector"
   ]
  },
  {
   "cell_type": "code",
   "execution_count": 49,
   "metadata": {},
   "outputs": [
    {
     "name": "stdout",
     "output_type": "stream",
     "text": [
      "F =\n"
     ]
    },
    {
     "data": {
      "text/latex": [
       "$\\displaystyle \\left[\\begin{matrix}g \\sin{\\left(\\theta{\\left(t \\right)} \\right)} \\int\\limits_{0}^{R} m{\\left(z \\right)} \\phi_{x[0,:]}{\\left(z \\right)}\\, dz + \\Omega^{2}{\\left(t \\right)} \\int\\limits_{0}^{R} m{\\left(z \\right)} \\phi_{x[0,:]}{\\left(z \\right)} x{\\left(z \\right)}\\, dz + \\int\\limits_{0}^{R} \\operatorname{f_{0 x}}{\\left(z \\right)} \\phi_{x[0,:]}{\\left(z \\right)}\\, dz + \\int\\limits_{0}^{R} \\operatorname{f_{0 y}}{\\left(z \\right)} \\phi_{y[0,:]}{\\left(z \\right)}\\, dz\\\\g \\sin{\\left(\\theta{\\left(t \\right)} \\right)} \\int\\limits_{0}^{R} m{\\left(z \\right)} \\phi_{x[1,:]}{\\left(z \\right)}\\, dz + \\Omega^{2}{\\left(t \\right)} \\int\\limits_{0}^{R} m{\\left(z \\right)} \\phi_{x[1,:]}{\\left(z \\right)} x{\\left(z \\right)}\\, dz + \\int\\limits_{0}^{R} \\operatorname{f_{0 x}}{\\left(z \\right)} \\phi_{x[1,:]}{\\left(z \\right)}\\, dz + \\int\\limits_{0}^{R} \\operatorname{f_{0 y}}{\\left(z \\right)} \\phi_{y[1,:]}{\\left(z \\right)}\\, dz\\\\g \\sin{\\left(\\theta{\\left(t \\right)} \\right)} \\int\\limits_{0}^{R} m{\\left(z \\right)} \\phi_{x[2,:]}{\\left(z \\right)}\\, dz + \\Omega^{2}{\\left(t \\right)} \\int\\limits_{0}^{R} m{\\left(z \\right)} \\phi_{x[2,:]}{\\left(z \\right)} x{\\left(z \\right)}\\, dz + \\int\\limits_{0}^{R} \\operatorname{f_{0 x}}{\\left(z \\right)} \\phi_{x[2,:]}{\\left(z \\right)}\\, dz + \\int\\limits_{0}^{R} \\operatorname{f_{0 y}}{\\left(z \\right)} \\phi_{y[2,:]}{\\left(z \\right)}\\, dz\\\\g \\sin{\\left(\\theta{\\left(t \\right)} \\right)} \\int\\limits_{0}^{R} m{\\left(z \\right)} \\phi_{x[3,:]}{\\left(z \\right)}\\, dz + \\Omega^{2}{\\left(t \\right)} \\int\\limits_{0}^{R} m{\\left(z \\right)} \\phi_{x[3,:]}{\\left(z \\right)} x{\\left(z \\right)}\\, dz + \\int\\limits_{0}^{R} \\operatorname{f_{0 x}}{\\left(z \\right)} \\phi_{x[3,:]}{\\left(z \\right)}\\, dz + \\int\\limits_{0}^{R} \\operatorname{f_{0 y}}{\\left(z \\right)} \\phi_{y[3,:]}{\\left(z \\right)}\\, dz\\\\g \\cos{\\left(\\theta{\\left(t \\right)} + \\frac{\\pi}{6} \\right)} \\int\\limits_{0}^{R} m{\\left(z \\right)} \\phi_{x[0,:]}{\\left(z \\right)}\\, dz + \\Omega^{2}{\\left(t \\right)} \\int\\limits_{0}^{R} m{\\left(z \\right)} \\phi_{x[0,:]}{\\left(z \\right)} x{\\left(z \\right)}\\, dz + \\int\\limits_{0}^{R} \\operatorname{f_{1 x}}{\\left(z \\right)} \\phi_{x[0,:]}{\\left(z \\right)}\\, dz + \\int\\limits_{0}^{R} \\operatorname{f_{1 y}}{\\left(z \\right)} \\phi_{y[0,:]}{\\left(z \\right)}\\, dz\\\\g \\cos{\\left(\\theta{\\left(t \\right)} + \\frac{\\pi}{6} \\right)} \\int\\limits_{0}^{R} m{\\left(z \\right)} \\phi_{x[1,:]}{\\left(z \\right)}\\, dz + \\Omega^{2}{\\left(t \\right)} \\int\\limits_{0}^{R} m{\\left(z \\right)} \\phi_{x[1,:]}{\\left(z \\right)} x{\\left(z \\right)}\\, dz + \\int\\limits_{0}^{R} \\operatorname{f_{1 x}}{\\left(z \\right)} \\phi_{x[1,:]}{\\left(z \\right)}\\, dz + \\int\\limits_{0}^{R} \\operatorname{f_{1 y}}{\\left(z \\right)} \\phi_{y[1,:]}{\\left(z \\right)}\\, dz\\\\g \\cos{\\left(\\theta{\\left(t \\right)} + \\frac{\\pi}{6} \\right)} \\int\\limits_{0}^{R} m{\\left(z \\right)} \\phi_{x[2,:]}{\\left(z \\right)}\\, dz + \\Omega^{2}{\\left(t \\right)} \\int\\limits_{0}^{R} m{\\left(z \\right)} \\phi_{x[2,:]}{\\left(z \\right)} x{\\left(z \\right)}\\, dz + \\int\\limits_{0}^{R} \\operatorname{f_{1 x}}{\\left(z \\right)} \\phi_{x[2,:]}{\\left(z \\right)}\\, dz + \\int\\limits_{0}^{R} \\operatorname{f_{1 y}}{\\left(z \\right)} \\phi_{y[2,:]}{\\left(z \\right)}\\, dz\\\\g \\cos{\\left(\\theta{\\left(t \\right)} + \\frac{\\pi}{6} \\right)} \\int\\limits_{0}^{R} m{\\left(z \\right)} \\phi_{x[3,:]}{\\left(z \\right)}\\, dz + \\Omega^{2}{\\left(t \\right)} \\int\\limits_{0}^{R} m{\\left(z \\right)} \\phi_{x[3,:]}{\\left(z \\right)} x{\\left(z \\right)}\\, dz + \\int\\limits_{0}^{R} \\operatorname{f_{1 x}}{\\left(z \\right)} \\phi_{x[3,:]}{\\left(z \\right)}\\, dz + \\int\\limits_{0}^{R} \\operatorname{f_{1 y}}{\\left(z \\right)} \\phi_{y[3,:]}{\\left(z \\right)}\\, dz\\\\- g \\sin{\\left(\\theta{\\left(t \\right)} + \\frac{\\pi}{3} \\right)} \\int\\limits_{0}^{R} m{\\left(z \\right)} \\phi_{x[0,:]}{\\left(z \\right)}\\, dz + \\Omega^{2}{\\left(t \\right)} \\int\\limits_{0}^{R} m{\\left(z \\right)} \\phi_{x[0,:]}{\\left(z \\right)} x{\\left(z \\right)}\\, dz + \\int\\limits_{0}^{R} \\operatorname{f_{2 x}}{\\left(z \\right)} \\phi_{x[0,:]}{\\left(z \\right)}\\, dz + \\int\\limits_{0}^{R} \\operatorname{f_{2 y}}{\\left(z \\right)} \\phi_{y[0,:]}{\\left(z \\right)}\\, dz\\\\- g \\sin{\\left(\\theta{\\left(t \\right)} + \\frac{\\pi}{3} \\right)} \\int\\limits_{0}^{R} m{\\left(z \\right)} \\phi_{x[1,:]}{\\left(z \\right)}\\, dz + \\Omega^{2}{\\left(t \\right)} \\int\\limits_{0}^{R} m{\\left(z \\right)} \\phi_{x[1,:]}{\\left(z \\right)} x{\\left(z \\right)}\\, dz + \\int\\limits_{0}^{R} \\operatorname{f_{2 x}}{\\left(z \\right)} \\phi_{x[1,:]}{\\left(z \\right)}\\, dz + \\int\\limits_{0}^{R} \\operatorname{f_{2 y}}{\\left(z \\right)} \\phi_{y[1,:]}{\\left(z \\right)}\\, dz\\\\- g \\sin{\\left(\\theta{\\left(t \\right)} + \\frac{\\pi}{3} \\right)} \\int\\limits_{0}^{R} m{\\left(z \\right)} \\phi_{x[2,:]}{\\left(z \\right)}\\, dz + \\Omega^{2}{\\left(t \\right)} \\int\\limits_{0}^{R} m{\\left(z \\right)} \\phi_{x[2,:]}{\\left(z \\right)} x{\\left(z \\right)}\\, dz + \\int\\limits_{0}^{R} \\operatorname{f_{2 x}}{\\left(z \\right)} \\phi_{x[2,:]}{\\left(z \\right)}\\, dz + \\int\\limits_{0}^{R} \\operatorname{f_{2 y}}{\\left(z \\right)} \\phi_{y[2,:]}{\\left(z \\right)}\\, dz\\\\- g \\sin{\\left(\\theta{\\left(t \\right)} + \\frac{\\pi}{3} \\right)} \\int\\limits_{0}^{R} m{\\left(z \\right)} \\phi_{x[3,:]}{\\left(z \\right)}\\, dz + \\Omega^{2}{\\left(t \\right)} \\int\\limits_{0}^{R} m{\\left(z \\right)} \\phi_{x[3,:]}{\\left(z \\right)} x{\\left(z \\right)}\\, dz + \\int\\limits_{0}^{R} \\operatorname{f_{2 x}}{\\left(z \\right)} \\phi_{x[3,:]}{\\left(z \\right)}\\, dz + \\int\\limits_{0}^{R} \\operatorname{f_{2 y}}{\\left(z \\right)} \\phi_{y[3,:]}{\\left(z \\right)}\\, dz\\\\\\int\\limits_{0}^{R} \\operatorname{f_{0 y}}{\\left(z \\right)}\\, dz + \\int\\limits_{0}^{R} \\operatorname{f_{1 y}}{\\left(z \\right)}\\, dz + \\int\\limits_{0}^{R} \\operatorname{f_{2 y}}{\\left(z \\right)}\\, dz\\end{matrix}\\right]$"
      ],
      "text/plain": [
       "Matrix([\n",
       "[        g*sin(theta(t))*Integral(m(z)*phi_x[0,:](z), (z, 0, R)) + Omega(t)**2*Integral(m(z)*phi_x[0,:](z)*x(z), (z, 0, R)) + Integral(f_0_x(z)*phi_x[0,:](z), (z, 0, R)) + Integral(f_0_y(z)*phi_y[0,:](z), (z, 0, R))],\n",
       "[        g*sin(theta(t))*Integral(m(z)*phi_x[1,:](z), (z, 0, R)) + Omega(t)**2*Integral(m(z)*phi_x[1,:](z)*x(z), (z, 0, R)) + Integral(f_0_x(z)*phi_x[1,:](z), (z, 0, R)) + Integral(f_0_y(z)*phi_y[1,:](z), (z, 0, R))],\n",
       "[        g*sin(theta(t))*Integral(m(z)*phi_x[2,:](z), (z, 0, R)) + Omega(t)**2*Integral(m(z)*phi_x[2,:](z)*x(z), (z, 0, R)) + Integral(f_0_x(z)*phi_x[2,:](z), (z, 0, R)) + Integral(f_0_y(z)*phi_y[2,:](z), (z, 0, R))],\n",
       "[        g*sin(theta(t))*Integral(m(z)*phi_x[3,:](z), (z, 0, R)) + Omega(t)**2*Integral(m(z)*phi_x[3,:](z)*x(z), (z, 0, R)) + Integral(f_0_x(z)*phi_x[3,:](z), (z, 0, R)) + Integral(f_0_y(z)*phi_y[3,:](z), (z, 0, R))],\n",
       "[ g*cos(theta(t) + pi/6)*Integral(m(z)*phi_x[0,:](z), (z, 0, R)) + Omega(t)**2*Integral(m(z)*phi_x[0,:](z)*x(z), (z, 0, R)) + Integral(f_1_x(z)*phi_x[0,:](z), (z, 0, R)) + Integral(f_1_y(z)*phi_y[0,:](z), (z, 0, R))],\n",
       "[ g*cos(theta(t) + pi/6)*Integral(m(z)*phi_x[1,:](z), (z, 0, R)) + Omega(t)**2*Integral(m(z)*phi_x[1,:](z)*x(z), (z, 0, R)) + Integral(f_1_x(z)*phi_x[1,:](z), (z, 0, R)) + Integral(f_1_y(z)*phi_y[1,:](z), (z, 0, R))],\n",
       "[ g*cos(theta(t) + pi/6)*Integral(m(z)*phi_x[2,:](z), (z, 0, R)) + Omega(t)**2*Integral(m(z)*phi_x[2,:](z)*x(z), (z, 0, R)) + Integral(f_1_x(z)*phi_x[2,:](z), (z, 0, R)) + Integral(f_1_y(z)*phi_y[2,:](z), (z, 0, R))],\n",
       "[ g*cos(theta(t) + pi/6)*Integral(m(z)*phi_x[3,:](z), (z, 0, R)) + Omega(t)**2*Integral(m(z)*phi_x[3,:](z)*x(z), (z, 0, R)) + Integral(f_1_x(z)*phi_x[3,:](z), (z, 0, R)) + Integral(f_1_y(z)*phi_y[3,:](z), (z, 0, R))],\n",
       "[-g*sin(theta(t) + pi/3)*Integral(m(z)*phi_x[0,:](z), (z, 0, R)) + Omega(t)**2*Integral(m(z)*phi_x[0,:](z)*x(z), (z, 0, R)) + Integral(f_2_x(z)*phi_x[0,:](z), (z, 0, R)) + Integral(f_2_y(z)*phi_y[0,:](z), (z, 0, R))],\n",
       "[-g*sin(theta(t) + pi/3)*Integral(m(z)*phi_x[1,:](z), (z, 0, R)) + Omega(t)**2*Integral(m(z)*phi_x[1,:](z)*x(z), (z, 0, R)) + Integral(f_2_x(z)*phi_x[1,:](z), (z, 0, R)) + Integral(f_2_y(z)*phi_y[1,:](z), (z, 0, R))],\n",
       "[-g*sin(theta(t) + pi/3)*Integral(m(z)*phi_x[2,:](z), (z, 0, R)) + Omega(t)**2*Integral(m(z)*phi_x[2,:](z)*x(z), (z, 0, R)) + Integral(f_2_x(z)*phi_x[2,:](z), (z, 0, R)) + Integral(f_2_y(z)*phi_y[2,:](z), (z, 0, R))],\n",
       "[-g*sin(theta(t) + pi/3)*Integral(m(z)*phi_x[3,:](z), (z, 0, R)) + Omega(t)**2*Integral(m(z)*phi_x[3,:](z)*x(z), (z, 0, R)) + Integral(f_2_x(z)*phi_x[3,:](z), (z, 0, R)) + Integral(f_2_y(z)*phi_y[3,:](z), (z, 0, R))],\n",
       "[                                                                                                                         Integral(f_0_y(z), (z, 0, R)) + Integral(f_1_y(z), (z, 0, R)) + Integral(f_2_y(z), (z, 0, R))]])"
      ]
     },
     "metadata": {},
     "output_type": "display_data"
    }
   ],
   "source": [
    "print('F ='); display(-R_i)"
   ]
  },
  {
   "cell_type": "markdown",
   "metadata": {},
   "source": [
    "# Automatic code generation\n",
    "\n",
    "Another convenience of Python is the possibility of adapting the functionality of a package to suit the project specific needs through inheritance of a class and overriding some of its methods. In the present case, the code generator “NumpyPrinter” from Sympy was inherited into the class “MyPrinter”.\n",
    "\n",
    "The generation of a numerical code is the objective of the script. The method 'MyPrinter.gen_file' generates a python class with the methos to calculate the instantaneous blade section position, velocity, $\\mathbf{M}$, $\\mathbf{C}$, $\\mathbf{K}$ matrices and $\\mathbf{F}$ vector. Although python+numpy has been chosen in the project to generate the code, it is straightforward to generate similar codes using Fortran+Lapack or C++/Lapack.\n",
    "\n"
   ]
  },
  {
   "cell_type": "markdown",
   "metadata": {},
   "source": [
    "## Gathering the trigonometric functions\n",
    "\n",
    "Similar trigonometric functions appear in several terms in $\\mathbf{M}$, $\\mathbf{C}$, $\\mathbf{K}$ matrices and $\\mathbf{F}$ vector. Some of them change over time steps others do not. Pre-calculating the trigonometric functions once and only when necessary may improve the code speed, even thought this is not the intent of the project."
   ]
  },
  {
   "cell_type": "code",
   "execution_count": null,
   "metadata": {},
   "outputs": [],
   "source": [
    "# List the common trigonometric trigonetric functions on M, C, K and R\n",
    "trig_set = M_mat.atoms(sym.sin, sym.cos) | C_mat.atoms(sym.sin, sym.cos) | K_mat.atoms(sym.sin, sym.cos) | R_vec.atoms(sym.sin, sym.cos)\n",
    "trig_list = list(trig_set)\n",
    "\n",
    "# Arrange the list of trigonometric functions in a dictionary\n",
    "y_list = sym.symbols('ytrig[:%d]' %len(trig_list))\n",
    "dict_yt = dict(zip(y_list, trig_list))\n",
    "dict_ty = dict(zip(trig_list, y_list))\n",
    "\n",
    "# Replace the trigonometric functions on M, C, K and R\n",
    "M_mat = M_mat.xreplace(dict_ty)\n",
    "C_mat = C_mat.xreplace(dict_ty)\n",
    "K_mat = K_mat.xreplace(dict_ty)\n",
    "R_vec = R_vec.xreplace(dict_ty)"
   ]
  },
  {
   "cell_type": "markdown",
   "metadata": {},
   "source": [
    "## Colecting the terms constant with time (iterations)"
   ]
  },
  {
   "cell_type": "code",
   "execution_count": null,
   "metadata": {},
   "outputs": [],
   "source": [
    "is_constant = [True]*len(x_list)\n",
    "for i in range(len(x_list)):\n",
    "    for atom in i_list[i].atoms(sym.Symbol, sym.Function, sym.Derivative):\n",
    "        for iter_variable in iter_list:\n",
    "            if (atom == iter_variable):\n",
    "                is_constant[i] = False\n",
    "    pass\n",
    "dict_constant = dict(zip(x_list, is_constant))"
   ]
  },
  {
   "cell_type": "markdown",
   "metadata": {},
   "source": [
    "## Generating the numerical code\n",
    "\n",
    "The file wind_turbine_sctructural.py will be created."
   ]
  },
  {
   "cell_type": "code",
   "execution_count": null,
   "metadata": {},
   "outputs": [],
   "source": [
    "Ei = Ec.copy().xreplace(dict_xi)\n",
    "\n",
    "# Substitutes the variables names in dict_names\n",
    "for key, value in dict_names.items():\n",
    "    key.name, dict_names[key] = value, key.name\n",
    "\n",
    "# Generate a list of the names of all symbols and functions (except intrinsic functions like trigonometric functions)\n",
    "set_1 = ( f_0.atoms(sym.Symbol, sym.Function) | f_1.atoms(sym.Symbol, sym.Function) | f_2.atoms(sym.Symbol, sym.Function) | {Omega} | Ei.atoms(sym.Symbol, sym.Function) | set(x_list) | set(y_list) | r_0.atoms(sym.Function, sym.Symbol) | v_4.atoms(sym.Function, sym.Symbol) )\n",
    "set_2 = ( Ei.atoms(sym.sin, sym.cos) | r_0.atoms(sym.sin, sym.cos) | v_4.atoms(sym.cos, sym.sin) )\n",
    "list_e = list(set_1 - set_2)\n",
    "list_names = [item.name for item in list_e]  \n",
    "\n",
    "# Change the symbols and functions names to include the 'self.' prefix\n",
    "for item in list_e:\n",
    "    item.name = 'self.' + item.name\n",
    "\n",
    "# Generate the numerical code\n",
    "MyPrinter.gen_file(M_mat , C_mat, K_mat, -R_vec, q, dict_xi, dict_yt, dict_constant, transformation_matrices, rotation_matrices, position_vectors)\n",
    "\n",
    "# Change the symbols and functions names back to their original values\n",
    "for item, item_name in zip(list_e, list_names):\n",
    "    item.name = item_name\n",
    "\n",
    "# Substitutes the variables names back\n",
    "for key, value in dict_names.items():\n",
    "    key.name, dict_names[key] = value, key.name"
   ]
  },
  {
   "cell_type": "code",
   "execution_count": null,
   "metadata": {},
   "outputs": [],
   "source": [
    "t_end = time.time()\n",
    "print(\"The numpy.code 'wind_turbine_structual.py' was written, Dave\")\n",
    "print('The simulation took %0.4f [s], Dave' %(t_end-t_start))"
   ]
  }
 ],
 "metadata": {
  "kernelspec": {
   "display_name": "Python 3",
   "language": "python",
   "name": "python3"
  },
  "language_info": {
   "codemirror_mode": {
    "name": "ipython",
    "version": 3
   },
   "file_extension": ".py",
   "mimetype": "text/x-python",
   "name": "python",
   "nbconvert_exporter": "python",
   "pygments_lexer": "ipython3",
   "version": "3.7.7"
  }
 },
 "nbformat": 4,
 "nbformat_minor": 4
}
